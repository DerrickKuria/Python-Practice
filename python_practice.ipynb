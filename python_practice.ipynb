{
  "nbformat": 4,
  "nbformat_minor": 0,
  "metadata": {
    "colab": {
      "name": "python_practice.ipynb",
      "provenance": [],
      "collapsed_sections": [
        "JBxFG8_fdrVm",
        "iTI7dgpEi93P",
        "hTp0LZc4Goag",
        "tYT_fv4oYPTY",
        "q1V0QUjHYwt3",
        "hI9year3eiev",
        "9ye4jlEKyvmm",
        "QwW6PYlUzata",
        "T6gTmSC8oMpx",
        "NSXHB09CJBlD"
      ],
      "toc_visible": true,
      "include_colab_link": true
    },
    "kernelspec": {
      "name": "python3",
      "display_name": "Python 3"
    }
  },
  "cells": [
    {
      "cell_type": "markdown",
      "metadata": {
        "id": "view-in-github",
        "colab_type": "text"
      },
      "source": [
        "<a href=\"https://colab.research.google.com/github/DerrickKuria/Python-Practice/blob/main/python_practice.ipynb\" target=\"_parent\"><img src=\"https://colab.research.google.com/assets/colab-badge.svg\" alt=\"Open In Colab\"/></a>"
      ]
    },
    {
      "cell_type": "markdown",
      "metadata": {
        "id": "2_KG2EG1-WAr"
      },
      "source": [
        "#PYTHON INTRODUCTION"
      ]
    },
    {
      "cell_type": "markdown",
      "metadata": {
        "id": "jMAj6tGRE2Br"
      },
      "source": [
        "## 1.Printing Hello World, comments and new lines"
      ]
    },
    {
      "cell_type": "code",
      "metadata": {
        "colab": {
          "base_uri": "https://localhost:8080/"
        },
        "id": "V2Q5VUp4-dW8",
        "outputId": "495b0bf7-aa74-4892-ac64-9f14b87339e5"
      },
      "source": [
        "print(\"Hello World\")"
      ],
      "execution_count": null,
      "outputs": [
        {
          "output_type": "stream",
          "text": [
            "Hello World\n"
          ],
          "name": "stdout"
        }
      ]
    },
    {
      "cell_type": "markdown",
      "metadata": {
        "id": "8y3FrXvgaVdz"
      },
      "source": [
        "### a.Comments in python"
      ]
    },
    {
      "cell_type": "code",
      "metadata": {
        "colab": {
          "base_uri": "https://localhost:8080/"
        },
        "id": "ff6qAAXLaeCw",
        "outputId": "9ffe9414-e66d-40f7-9127-ba5c83374be0"
      },
      "source": [
        "# My first code\n",
        "print(\"Hello World\")"
      ],
      "execution_count": null,
      "outputs": [
        {
          "output_type": "stream",
          "text": [
            "Hello World\n"
          ],
          "name": "stdout"
        }
      ]
    },
    {
      "cell_type": "markdown",
      "metadata": {
        "id": "NSEyWjGoacrB"
      },
      "source": [
        "**i).Single line comments**"
      ]
    },
    {
      "cell_type": "markdown",
      "metadata": {
        "id": "8-h-3VmdFNIY"
      },
      "source": [
        "In python we use # to comment.\n",
        "\n",
        "Comments are used  to explain code and explain objectives "
      ]
    },
    {
      "cell_type": "markdown",
      "metadata": {
        "id": "q1wFLModahkK"
      },
      "source": [
        "**ii).Multiline comments**"
      ]
    },
    {
      "cell_type": "markdown",
      "metadata": {
        "id": "X5FqTO6ghOrs"
      },
      "source": [
        "To do a multil-line comment, one uses 3 quotes, as shown below."
      ]
    },
    {
      "cell_type": "code",
      "metadata": {
        "id": "q9zeDtXShX9L",
        "colab": {
          "base_uri": "https://localhost:8080/"
        },
        "outputId": "1a0ccf09-da76-443d-96a7-06bd1f8ee838"
      },
      "source": [
        "print(\"\"\" This is\n",
        " is a multi-\n",
        " line comment\"\"\")"
      ],
      "execution_count": null,
      "outputs": [
        {
          "output_type": "stream",
          "text": [
            " This is\n",
            " is a multi-\n",
            " line comment\n"
          ],
          "name": "stdout"
        }
      ]
    },
    {
      "cell_type": "code",
      "metadata": {
        "colab": {
          "base_uri": "https://localhost:8080/"
        },
        "id": "8idA_ewGbnrF",
        "outputId": "d6c87b05-e7ce-4096-c6af-f832c1ed4011"
      },
      "source": [
        "print(\"\"\"This is a multi\n",
        "line \n",
        "comment\"\"\")"
      ],
      "execution_count": null,
      "outputs": [
        {
          "output_type": "stream",
          "text": [
            "This is a multiline comment\n"
          ],
          "name": "stdout"
        }
      ]
    },
    {
      "cell_type": "markdown",
      "metadata": {
        "id": "biQU0wXrE6r6"
      },
      "source": [
        "**Exercise 1**\n",
        "\n",
        "a. Print your  second name and comment your first name"
      ]
    },
    {
      "cell_type": "code",
      "metadata": {
        "id": "IbXXnaht-pJ_",
        "colab": {
          "base_uri": "https://localhost:8080/"
        },
        "outputId": "3bf50ac7-1bd1-44b2-a62a-183e2a29dc31"
      },
      "source": [
        "print('Kuria')\n",
        "#Derrick"
      ],
      "execution_count": null,
      "outputs": [
        {
          "output_type": "stream",
          "text": [
            "Kuria\n"
          ],
          "name": "stdout"
        }
      ]
    },
    {
      "cell_type": "markdown",
      "metadata": {
        "id": "kwWi0nV-f71Z"
      },
      "source": [
        "###***b.New Lines***"
      ]
    },
    {
      "cell_type": "markdown",
      "metadata": {
        "id": "o_VRCdtPgSbw"
      },
      "source": [
        "\\n represents a new line.\n",
        "\n",
        "It is used in strings to create multiline outputs.\n",
        "\n",
        "Check example below.\n"
      ]
    },
    {
      "cell_type": "code",
      "metadata": {
        "colab": {
          "base_uri": "https://localhost:8080/"
        },
        "id": "fS3hvFQkgo3p",
        "outputId": "b695111e-e585-4b2c-ba5a-a04292d844a4"
      },
      "source": [
        "print('Python \\nis \\nfun')"
      ],
      "execution_count": null,
      "outputs": [
        {
          "output_type": "stream",
          "text": [
            "Python \n",
            "is \n",
            "fun\n"
          ],
          "name": "stdout"
        }
      ]
    },
    {
      "cell_type": "markdown",
      "metadata": {
        "id": "nlMtwSoMeQGD"
      },
      "source": [
        "**NB**.Backslashes are used when we have an apostrophe in the printed statements as shown below. Run the following code. This allows for one to use a closing quote without stoping the whole code from not running."
      ]
    },
    {
      "cell_type": "code",
      "metadata": {
        "id": "NKmenYrqeedz",
        "colab": {
          "base_uri": "https://localhost:8080/"
        },
        "outputId": "3cce702a-ae90-4c86-aa07-8c473dcccc6f"
      },
      "source": [
        "print('Victor\\'s books are lost')"
      ],
      "execution_count": null,
      "outputs": [
        {
          "output_type": "stream",
          "text": [
            "Victor's books are lost\n"
          ],
          "name": "stdout"
        }
      ]
    },
    {
      "cell_type": "markdown",
      "metadata": {
        "id": "eFxlFJXketXl"
      },
      "source": [
        "An alternative is to use double quotes as shown below. It gives the same output."
      ]
    },
    {
      "cell_type": "code",
      "metadata": {
        "id": "_00z2laofGNH",
        "colab": {
          "base_uri": "https://localhost:8080/"
        },
        "outputId": "49125449-154c-4a89-9d9f-0c49274673c3"
      },
      "source": [
        "print(\"Victor's books are lost\")"
      ],
      "execution_count": null,
      "outputs": [
        {
          "output_type": "stream",
          "text": [
            "Victor's books are lost\n"
          ],
          "name": "stdout"
        }
      ]
    },
    {
      "cell_type": "markdown",
      "metadata": {
        "id": "huiUW5pwGejq"
      },
      "source": [
        "b. Print the following that is comments to appear the same way in the output using three different ways."
      ]
    },
    {
      "cell_type": "code",
      "metadata": {
        "id": "ouYnlt4L-yNi"
      },
      "source": [
        "#1.DImension\n",
        "#2.Data\n",
        "#3.MEA"
      ],
      "execution_count": null,
      "outputs": []
    },
    {
      "cell_type": "code",
      "metadata": {
        "colab": {
          "base_uri": "https://localhost:8080/"
        },
        "id": "ggA41Vh-eTnm",
        "outputId": "bb5bd06b-8937-483f-ce8f-1b07ce56f54f"
      },
      "source": [
        "print('1.Dimension \\n2.Data \\n3.MEA')"
      ],
      "execution_count": null,
      "outputs": [
        {
          "output_type": "stream",
          "text": [
            "1.Dimension \n",
            "2.Data \n",
            "3.MEA\n"
          ],
          "name": "stdout"
        }
      ]
    },
    {
      "cell_type": "code",
      "metadata": {
        "id": "LuRyZsCihqCd"
      },
      "source": [
        "#1.DImension\n",
        "#2.Data\n",
        "#3.MEA"
      ],
      "execution_count": null,
      "outputs": []
    },
    {
      "cell_type": "markdown",
      "metadata": {
        "id": "696CZFG1_tza"
      },
      "source": [
        "## 2.Python Data types "
      ]
    },
    {
      "cell_type": "markdown",
      "metadata": {
        "id": "JBxFG8_fdrVm"
      },
      "source": [
        "### a.Examples"
      ]
    },
    {
      "cell_type": "markdown",
      "metadata": {
        "id": "9R_68A27IRPP"
      },
      "source": [
        "There are several data types in python\n",
        "\n",
        "\n",
        "1.   **str** - used for storing strings or simply words\n",
        "2.   **int** - used for storing integers or simply whole numbers\n",
        "3.   **float** - used for storing decimal numbers\n",
        "4.   complex - used for storing complex values eg. 3+2i\n",
        "5.   list - stores many items but assigned to one variable(uses square brackets\n",
        "6.   dict - uses the key and value \n",
        "7.   range - Handles a scope of items eg. y=range(100)\n",
        "8.   tuple - stores many items but assigned to one variable(uses normal brackets)\n",
        "9.   **bool** - True , False\n",
        "\n",
        "(The main ones are in bold)\n",
        "\n",
        "\n",
        "\n"
      ]
    },
    {
      "cell_type": "markdown",
      "metadata": {
        "id": "vumcZDuCQ1DE"
      },
      "source": [
        "NB :To get a little more about complex numbers check the following links:\n",
        "\n",
        "[complex_numbers](https://www.geeksforgeeks.org/complex-numbers-in-python-set-1-introduction/)\n",
        "\n",
        "[complex_numbers2](https://www.tutorialspoint.com/complex-numbers-in-python)"
      ]
    },
    {
      "cell_type": "markdown",
      "metadata": {
        "id": "BWgpLAxnfeqT"
      },
      "source": [
        "[W3schools](https://www.w3schools.com/)"
      ]
    },
    {
      "cell_type": "markdown",
      "metadata": {
        "id": "3LtfheEILn2D"
      },
      "source": [
        "To check for the type of  data types , use code\n",
        "\n",
        "**print(type())**\n",
        "\n",
        "eg"
      ]
    },
    {
      "cell_type": "code",
      "metadata": {
        "colab": {
          "base_uri": "https://localhost:8080/"
        },
        "id": "mF0I5GmRLQjT",
        "outputId": "89f59b65-2e4a-46c6-e305-bafec05c3274"
      },
      "source": [
        "#a.\n",
        "x=17\n",
        "print(type(x))"
      ],
      "execution_count": null,
      "outputs": [
        {
          "output_type": "stream",
          "text": [
            "<class 'int'>\n"
          ],
          "name": "stdout"
        }
      ]
    },
    {
      "cell_type": "code",
      "metadata": {
        "colab": {
          "base_uri": "https://localhost:8080/"
        },
        "id": "fOtowuKOL2a9",
        "outputId": "daaca631-174e-4dcf-af10-b4a011ec7de9"
      },
      "source": [
        "#.b\n",
        "r= 23.678\n",
        "print(type(r))"
      ],
      "execution_count": null,
      "outputs": [
        {
          "output_type": "stream",
          "text": [
            "<class 'float'>\n"
          ],
          "name": "stdout"
        }
      ]
    },
    {
      "cell_type": "code",
      "metadata": {
        "colab": {
          "base_uri": "https://localhost:8080/"
        },
        "id": "krnytFLjL_C5",
        "outputId": "01c4c86f-96f0-4ca6-c50b-118714a1cf92"
      },
      "source": [
        "#.c\n",
        "utensils = ['Plates','cups','spoons','bowls']\n",
        "print(type(utensils))"
      ],
      "execution_count": null,
      "outputs": [
        {
          "output_type": "stream",
          "text": [
            "<class 'list'>\n"
          ],
          "name": "stdout"
        }
      ]
    },
    {
      "cell_type": "code",
      "metadata": {
        "colab": {
          "base_uri": "https://localhost:8080/"
        },
        "id": "vaTh3PTthGhV",
        "outputId": "b941cc57-3b70-4fad-b792-94dd13eb2e94"
      },
      "source": [
        "print(utensils)"
      ],
      "execution_count": null,
      "outputs": [
        {
          "output_type": "stream",
          "text": [
            "['Plates', 'cups', 'spoons', 'bowls']\n"
          ],
          "name": "stdout"
        }
      ]
    },
    {
      "cell_type": "code",
      "metadata": {
        "colab": {
          "base_uri": "https://localhost:8080/"
        },
        "id": "ykYwTmgZgGpx",
        "outputId": "cc8a03ca-707b-41b4-dc3f-4a48a5fc89e8"
      },
      "source": [
        "print(type(utensils))"
      ],
      "execution_count": null,
      "outputs": [
        {
          "output_type": "stream",
          "text": [
            "<class 'list'>\n"
          ],
          "name": "stdout"
        }
      ]
    },
    {
      "cell_type": "code",
      "metadata": {
        "colab": {
          "base_uri": "https://localhost:8080/"
        },
        "id": "J9DyGTatgaEt",
        "outputId": "b3071d8f-3692-4a63-930f-55c092a520b1"
      },
      "source": [
        "type(utensils)"
      ],
      "execution_count": null,
      "outputs": [
        {
          "output_type": "execute_result",
          "data": {
            "text/plain": [
              "list"
            ]
          },
          "metadata": {
            "tags": []
          },
          "execution_count": 24
        }
      ]
    },
    {
      "cell_type": "code",
      "metadata": {
        "colab": {
          "base_uri": "https://localhost:8080/"
        },
        "id": "6lB7vmIMMbX3",
        "outputId": "8afc2f9d-52ea-42f3-99ef-08a8b1d0f90e"
      },
      "source": [
        "#.d\n",
        "w= range(34)\n",
        "print(type(w))"
      ],
      "execution_count": null,
      "outputs": [
        {
          "output_type": "stream",
          "text": [
            "<class 'range'>\n"
          ],
          "name": "stdout"
        }
      ]
    },
    {
      "cell_type": "code",
      "metadata": {
        "colab": {
          "base_uri": "https://localhost:8080/"
        },
        "id": "baTJACXQg8pY",
        "outputId": "2334a57c-3822-493d-dfab-37d1ea145fe1"
      },
      "source": [
        "print(w)"
      ],
      "execution_count": null,
      "outputs": [
        {
          "output_type": "stream",
          "text": [
            "range(0, 34)\n"
          ],
          "name": "stdout"
        }
      ]
    },
    {
      "cell_type": "code",
      "metadata": {
        "colab": {
          "base_uri": "https://localhost:8080/"
        },
        "id": "VcJFAQL4hvb2",
        "outputId": "d6d07091-7efe-4874-8b4a-19be5f3aa43c"
      },
      "source": [
        "a = 34\n",
        "q = range(a)\n",
        "print(q)"
      ],
      "execution_count": null,
      "outputs": [
        {
          "output_type": "stream",
          "text": [
            "range(0, 34)\n"
          ],
          "name": "stdout"
        }
      ]
    },
    {
      "cell_type": "markdown",
      "metadata": {
        "id": "liRduGBzjCWD"
      },
      "source": [
        "[python ranges](https://www.w3schools.com/python/ref_func_range.asp)"
      ]
    },
    {
      "cell_type": "code",
      "metadata": {
        "id": "BLII6Rp6idXp"
      },
      "source": [
        ""
      ],
      "execution_count": null,
      "outputs": []
    },
    {
      "cell_type": "markdown",
      "metadata": {
        "id": "iD2jMPETMpQh"
      },
      "source": [
        "**Exercise 2**\n",
        "\n",
        "Identify the following  data types "
      ]
    },
    {
      "cell_type": "code",
      "metadata": {
        "id": "iyAKob-2jSQH"
      },
      "source": [
        "#type()\n",
        "#print(type())"
      ],
      "execution_count": null,
      "outputs": []
    },
    {
      "cell_type": "code",
      "metadata": {
        "id": "3p4Va3JuNgu3",
        "colab": {
          "base_uri": "https://localhost:8080/"
        },
        "outputId": "3db64117-051b-482f-a056-5443213092da"
      },
      "source": [
        "#a.\n",
        "range1 =range(67)\n",
        "print(type(range1))"
      ],
      "execution_count": null,
      "outputs": [
        {
          "output_type": "stream",
          "text": [
            "<class 'range'>\n"
          ],
          "name": "stdout"
        }
      ]
    },
    {
      "cell_type": "code",
      "metadata": {
        "id": "VUynKzpVMigv",
        "colab": {
          "base_uri": "https://localhost:8080/"
        },
        "outputId": "8ddfb384-e6b1-4898-8e40-3d58e6dafbaa"
      },
      "source": [
        "#b.\n",
        "numb = 3-4j\n",
        "print(type(numb))\n"
      ],
      "execution_count": null,
      "outputs": [
        {
          "output_type": "stream",
          "text": [
            "<class 'complex'>\n"
          ],
          "name": "stdout"
        }
      ]
    },
    {
      "cell_type": "code",
      "metadata": {
        "colab": {
          "base_uri": "https://localhost:8080/"
        },
        "id": "6Da2wOaySadF",
        "outputId": "cd5794ba-6dba-4327-e87b-cbb3cb6717a6"
      },
      "source": [
        "#c. \n",
        "favs = {\n",
        "  \"Charles\": \"SQL\",\n",
        "  \"David\": \"RPA\",\n",
        "  \"Rick\": \"Data\"\n",
        "}\n",
        "print(type(favs))"
      ],
      "execution_count": null,
      "outputs": [
        {
          "output_type": "stream",
          "text": [
            "<class 'dict'>\n"
          ],
          "name": "stdout"
        }
      ]
    },
    {
      "cell_type": "code",
      "metadata": {
        "id": "4C6uoewiTPDz",
        "colab": {
          "base_uri": "https://localhost:8080/"
        },
        "outputId": "86e2a013-a7b5-4985-d6f5-38319347c1f1"
      },
      "source": [
        "#d. \n",
        "python_exciting = True\n",
        "print(type(python_exciting))"
      ],
      "execution_count": null,
      "outputs": [
        {
          "output_type": "stream",
          "text": [
            "<class 'bool'>\n"
          ],
          "name": "stdout"
        }
      ]
    },
    {
      "cell_type": "code",
      "metadata": {
        "id": "ixJTzzH6VK1o",
        "colab": {
          "base_uri": "https://localhost:8080/"
        },
        "outputId": "5327014d-0e46-44a5-b0d8-65e772a3859d"
      },
      "source": [
        "#e.\n",
        "phones = [\"iphone\",\"Samsung\",\"nokia\",\"infinix\",\"Tecno\"]\n",
        "print(type(phones))"
      ],
      "execution_count": null,
      "outputs": [
        {
          "output_type": "stream",
          "text": [
            "<class 'list'>\n"
          ],
          "name": "stdout"
        }
      ]
    },
    {
      "cell_type": "markdown",
      "metadata": {
        "id": "iTI7dgpEi93P"
      },
      "source": [
        "### b.Changing data types"
      ]
    },
    {
      "cell_type": "markdown",
      "metadata": {
        "id": "juzY-aJ4kSLw"
      },
      "source": [
        "When you want to change a data type to another , you simply add that data type to the value you want to change. \n",
        "\n",
        "eg."
      ]
    },
    {
      "cell_type": "code",
      "metadata": {
        "colab": {
          "base_uri": "https://localhost:8080/"
        },
        "id": "EVBXY4L6kogQ",
        "outputId": "4e8e6955-597b-423a-c581-9976ad3e2b6d"
      },
      "source": [
        "int(3.0)"
      ],
      "execution_count": null,
      "outputs": [
        {
          "output_type": "execute_result",
          "data": {
            "text/plain": [
              "3"
            ]
          },
          "metadata": {
            "tags": []
          },
          "execution_count": 38
        }
      ]
    },
    {
      "cell_type": "code",
      "metadata": {
        "colab": {
          "base_uri": "https://localhost:8080/"
        },
        "id": "hlBcx1GrkRpH",
        "outputId": "bcc5dede-d350-450c-a69b-af782184c61e"
      },
      "source": [
        "float(4)"
      ],
      "execution_count": null,
      "outputs": [
        {
          "output_type": "execute_result",
          "data": {
            "text/plain": [
              "4.0"
            ]
          },
          "metadata": {
            "tags": []
          },
          "execution_count": 39
        }
      ]
    },
    {
      "cell_type": "code",
      "metadata": {
        "colab": {
          "base_uri": "https://localhost:8080/",
          "height": 35
        },
        "id": "8g7qjbO6kuiT",
        "outputId": "34d9b57c-f3d3-4d56-b1f4-c9e7079f3f86"
      },
      "source": [
        "str(True) \n"
      ],
      "execution_count": null,
      "outputs": [
        {
          "output_type": "execute_result",
          "data": {
            "application/vnd.google.colaboratory.intrinsic+json": {
              "type": "string"
            },
            "text/plain": [
              "'True'"
            ]
          },
          "metadata": {
            "tags": []
          },
          "execution_count": 40
        }
      ]
    },
    {
      "cell_type": "code",
      "metadata": {
        "colab": {
          "base_uri": "https://localhost:8080/"
        },
        "id": "9LU6GvHklTjv",
        "outputId": "e44941cf-e601-4ce0-c98c-1b38dc9d1df9"
      },
      "source": [
        "number = 3.5678\n",
        "int(number)"
      ],
      "execution_count": null,
      "outputs": [
        {
          "output_type": "execute_result",
          "data": {
            "text/plain": [
              "3"
            ]
          },
          "metadata": {
            "tags": []
          },
          "execution_count": 42
        }
      ]
    },
    {
      "cell_type": "markdown",
      "metadata": {
        "id": "3TnlynATlRjo"
      },
      "source": [
        "However not all data types can be converted into other data types."
      ]
    },
    {
      "cell_type": "markdown",
      "metadata": {
        "id": "hTp0LZc4Goag"
      },
      "source": [
        "###**c.String indexing and slicing**\n",
        "\n",
        "Indexing just means accessing elements\n",
        "\n",
        "\n",
        "\n"
      ]
    },
    {
      "cell_type": "markdown",
      "metadata": {
        "id": "oqjPqAB2KYPe"
      },
      "source": [
        "**i).Indexing**"
      ]
    },
    {
      "cell_type": "code",
      "metadata": {
        "colab": {
          "base_uri": "https://localhost:8080/"
        },
        "id": "B4Ec7bzQHekU",
        "outputId": "10211f4c-d675-447c-9a78-0254d4180539"
      },
      "source": [
        "day = \"Saturday\"\n",
        "              \n",
        "print(day)"
      ],
      "execution_count": null,
      "outputs": [
        {
          "output_type": "stream",
          "text": [
            "Saturday\n"
          ],
          "name": "stdout"
        }
      ]
    },
    {
      "cell_type": "code",
      "metadata": {
        "colab": {
          "base_uri": "https://localhost:8080/"
        },
        "id": "WuVxvEHlHZ4r",
        "outputId": "789c2e2a-7e06-41cf-dcc5-77759ccfe08b"
      },
      "source": [
        "#To get the first element of the the string assigned to day\n",
        "print(day[0])\n"
      ],
      "execution_count": null,
      "outputs": [
        {
          "output_type": "stream",
          "text": [
            "S\n"
          ],
          "name": "stdout"
        }
      ]
    },
    {
      "cell_type": "code",
      "metadata": {
        "colab": {
          "base_uri": "https://localhost:8080/"
        },
        "id": "aTbMZtADGtSW",
        "outputId": "9c7d2c22-a1da-41d0-80a1-f3b1381f9e88"
      },
      "source": [
        "#To get the second element of the the string assigned to day\n",
        "print(day[1])"
      ],
      "execution_count": null,
      "outputs": [
        {
          "output_type": "stream",
          "text": [
            "a\n"
          ],
          "name": "stdout"
        }
      ]
    },
    {
      "cell_type": "code",
      "metadata": {
        "colab": {
          "base_uri": "https://localhost:8080/"
        },
        "id": "_tKttXKKJ_UU",
        "outputId": "5d721dcf-529f-49e1-ee46-094265e93818"
      },
      "source": [
        "#To get the last element of the the string assigned to day\n",
        "print(day[-1])"
      ],
      "execution_count": null,
      "outputs": [
        {
          "output_type": "stream",
          "text": [
            "y\n"
          ],
          "name": "stdout"
        }
      ]
    },
    {
      "cell_type": "code",
      "metadata": {
        "colab": {
          "base_uri": "https://localhost:8080/"
        },
        "id": "JeI0wAdtmkZZ",
        "outputId": "67ccd23c-583e-4cb2-c053-af9cd67bfb69"
      },
      "source": [
        "print(day)"
      ],
      "execution_count": null,
      "outputs": [
        {
          "output_type": "stream",
          "text": [
            "Saturday\n"
          ],
          "name": "stdout"
        }
      ]
    },
    {
      "cell_type": "code",
      "metadata": {
        "colab": {
          "base_uri": "https://localhost:8080/"
        },
        "id": "--VzBDQmmtpm",
        "outputId": "a1948f55-563d-4aac-d5a1-f2c68532d3c2"
      },
      "source": [
        "print(day[-5])"
      ],
      "execution_count": null,
      "outputs": [
        {
          "output_type": "stream",
          "text": [
            "u\n"
          ],
          "name": "stdout"
        }
      ]
    },
    {
      "cell_type": "code",
      "metadata": {
        "colab": {
          "base_uri": "https://localhost:8080/"
        },
        "id": "Rt5xYhHmmoN2",
        "outputId": "46cd49b0-085f-4188-85a7-4a89163ed146"
      },
      "source": [
        "print(day[3])"
      ],
      "execution_count": null,
      "outputs": [
        {
          "output_type": "stream",
          "text": [
            "u\n"
          ],
          "name": "stdout"
        }
      ]
    },
    {
      "cell_type": "code",
      "metadata": {
        "colab": {
          "base_uri": "https://localhost:8080/"
        },
        "id": "ie21mR9vm7aU",
        "outputId": "d58a00b4-a1ae-4f54-cea7-98190aae4bbb"
      },
      "source": [
        "today = \"We are learning python\"\n",
        "print(today)"
      ],
      "execution_count": null,
      "outputs": [
        {
          "output_type": "stream",
          "text": [
            "We are learning python\n"
          ],
          "name": "stdout"
        }
      ]
    },
    {
      "cell_type": "code",
      "metadata": {
        "colab": {
          "base_uri": "https://localhost:8080/"
        },
        "id": "N-3XWICYm_sp",
        "outputId": "c3acc308-ae67-4742-a03e-e54af8d08e20"
      },
      "source": [
        "print(today[-2])"
      ],
      "execution_count": null,
      "outputs": [
        {
          "output_type": "stream",
          "text": [
            "o\n"
          ],
          "name": "stdout"
        }
      ]
    },
    {
      "cell_type": "code",
      "metadata": {
        "colab": {
          "base_uri": "https://localhost:8080/"
        },
        "id": "Pl7NlazlKFdH",
        "outputId": "ee926c52-462e-4d4b-9130-3674db9b11a0"
      },
      "source": [
        "# Also  it can be achieved like this.\n",
        "print(day[7])"
      ],
      "execution_count": null,
      "outputs": [
        {
          "output_type": "stream",
          "text": [
            "y\n"
          ],
          "name": "stdout"
        }
      ]
    },
    {
      "cell_type": "markdown",
      "metadata": {
        "id": "Fpw96iObKgy9"
      },
      "source": [
        "**ii).Slicing**"
      ]
    },
    {
      "cell_type": "markdown",
      "metadata": {
        "id": "3EatLRQpoFMI"
      },
      "source": [
        "Slicing means getting a subset of elements from an iterable based on their indices."
      ]
    },
    {
      "cell_type": "code",
      "metadata": {
        "colab": {
          "base_uri": "https://localhost:8080/"
        },
        "id": "rIZXsvJSMIEV",
        "outputId": "9eb2f3fc-e062-47de-8f16-a1fbab0fc2cb"
      },
      "source": [
        "day = \"Sunday\"\n",
        "print(day)"
      ],
      "execution_count": null,
      "outputs": [
        {
          "output_type": "stream",
          "text": [
            "Sunday\n"
          ],
          "name": "stdout"
        }
      ]
    },
    {
      "cell_type": "code",
      "metadata": {
        "colab": {
          "base_uri": "https://localhost:8080/"
        },
        "id": "rBAI2dUMMLHR",
        "outputId": "cd910f17-b47b-4f75-f189-30b211b63d06"
      },
      "source": [
        "#To run the whole item variable\n",
        "m = day[1:3]\n",
        "print(m)"
      ],
      "execution_count": null,
      "outputs": [
        {
          "output_type": "stream",
          "text": [
            "un\n"
          ],
          "name": "stdout"
        }
      ]
    },
    {
      "cell_type": "code",
      "metadata": {
        "colab": {
          "base_uri": "https://localhost:8080/"
        },
        "id": "Mai4_iNRNkzv",
        "outputId": "f6623887-2ca5-489b-fa63-e1d84fd9cf39"
      },
      "source": [
        "#Also you can use this\n",
        "r = day[:]\n",
        "print(r)"
      ],
      "execution_count": null,
      "outputs": [
        {
          "output_type": "stream",
          "text": [
            "Sunday\n"
          ],
          "name": "stdout"
        }
      ]
    },
    {
      "cell_type": "code",
      "metadata": {
        "colab": {
          "base_uri": "https://localhost:8080/"
        },
        "id": "FypY-EhVNQff",
        "outputId": "c537a388-fb2f-436a-9655-8ce0dd837a74"
      },
      "source": [
        "#To get the item 'sun' from Sunday\n",
        "q= day[0:3]\n",
        "print(q)"
      ],
      "execution_count": null,
      "outputs": [
        {
          "output_type": "stream",
          "text": [
            "Sun\n"
          ],
          "name": "stdout"
        }
      ]
    },
    {
      "cell_type": "code",
      "metadata": {
        "colab": {
          "base_uri": "https://localhost:8080/"
        },
        "id": "9FysLUetPZbx",
        "outputId": "49f7a094-47a4-44b1-e8f3-b607be72714e"
      },
      "source": [
        "#To get the item 'day' from Sunday\n",
        "d = day[3:]\n",
        "print(d)"
      ],
      "execution_count": null,
      "outputs": [
        {
          "output_type": "stream",
          "text": [
            "day\n"
          ],
          "name": "stdout"
        }
      ]
    },
    {
      "cell_type": "markdown",
      "metadata": {
        "id": "0ggeErmtpKCy"
      },
      "source": [
        "Exercise"
      ]
    },
    {
      "cell_type": "code",
      "metadata": {
        "colab": {
          "base_uri": "https://localhost:8080/"
        },
        "id": "EyYMqsGLpPVh",
        "outputId": "128cef78-a641-4c8b-e4ae-e6915a681f46"
      },
      "source": [
        "game = (\"football\")\n",
        "\n",
        "#try to get the characters otba\n",
        "print(game[2:6])"
      ],
      "execution_count": null,
      "outputs": [
        {
          "output_type": "stream",
          "text": [
            "otba\n"
          ],
          "name": "stdout"
        }
      ]
    },
    {
      "cell_type": "code",
      "metadata": {
        "colab": {
          "base_uri": "https://localhost:8080/"
        },
        "id": "29pbKv2IqV6Y",
        "outputId": "305ca48a-65d5-4664-e8e6-f03bec80ba91"
      },
      "source": [
        "print(game)"
      ],
      "execution_count": null,
      "outputs": [
        {
          "output_type": "stream",
          "text": [
            "football\n"
          ],
          "name": "stdout"
        }
      ]
    },
    {
      "cell_type": "markdown",
      "metadata": {
        "id": "4zb76D0RqOuS"
      },
      "source": [
        "### d. Formatted strings"
      ]
    },
    {
      "cell_type": "markdown",
      "metadata": {
        "id": "1yzlQFnGrL_z"
      },
      "source": [
        "Formatted strings are all about finding a position and  fitting it with the steing assigned to a variable."
      ]
    },
    {
      "cell_type": "code",
      "metadata": {
        "id": "Jdlb6kn1qi5w"
      },
      "source": [
        "#named indexes:\n",
        "one = \"My name is {first_name}, I'm {age} and am from {place}\".format(first_name = 'Derrick', age = 25, place =\"Ngong\")\n",
        "#numbered indexes:\n",
        "two = \"My name is {0}, I'm {1} and am from {2}\".format(\"Charles\",25,\"Kisumu\")\n",
        "#empty placeholders:\n",
        "three = \"My name is {}, I'm {}\".format(\"David\",25)\n",
        "\n",
        "print(one)\n",
        "print(two)\n",
        "print(three)"
      ],
      "execution_count": null,
      "outputs": []
    },
    {
      "cell_type": "code",
      "metadata": {
        "colab": {
          "base_uri": "https://localhost:8080/"
        },
        "id": "UD39vl01xQEA",
        "outputId": "a1d3e877-0067-4518-a2db-fdf09319be97"
      },
      "source": [
        "fname= input(\"what is your first name? \")\n",
        "print(\"Your first name is \" +fname)"
      ],
      "execution_count": null,
      "outputs": [
        {
          "output_type": "stream",
          "text": [
            "what is your first name? charloh\n",
            "Your first name is charloh\n"
          ],
          "name": "stdout"
        }
      ]
    },
    {
      "cell_type": "code",
      "metadata": {
        "id": "AX-POaRCvrDT"
      },
      "source": [
        "name = input(\"What is you name:\")\n",
        "print('Your name is ' + name)"
      ],
      "execution_count": null,
      "outputs": []
    },
    {
      "cell_type": "code",
      "metadata": {
        "id": "fUbYYVXHwuwC"
      },
      "source": [
        ""
      ],
      "execution_count": null,
      "outputs": []
    },
    {
      "cell_type": "code",
      "metadata": {
        "colab": {
          "base_uri": "https://localhost:8080/"
        },
        "id": "K3P7McEeqhN9",
        "outputId": "01fcb990-223f-4a03-ffab-8bdf3c2bec7e"
      },
      "source": [
        "first_name = 'Derrick'\n",
        "last_name = 'Kuria'\n",
        "age = 25\n",
        "\n",
        "message =f' My  names are {first_name} {last_name} and my age is {age}.'\n",
        "print(message)"
      ],
      "execution_count": null,
      "outputs": [
        {
          "output_type": "stream",
          "text": [
            " My  names are Derrick Kuria and my age is 24\n"
          ],
          "name": "stdout"
        }
      ]
    },
    {
      "cell_type": "markdown",
      "metadata": {
        "id": "M_qZL3GpVwwN"
      },
      "source": [
        "## 3.Operations"
      ]
    },
    {
      "cell_type": "markdown",
      "metadata": {
        "id": "MU-6C_7M_ezX"
      },
      "source": [
        "\n",
        "*Everything in python that is in quotes is a string*\n",
        "One can do Concatenations to achieve a certain agenda\n",
        "\n",
        "---\n",
        "eg.\n"
      ]
    },
    {
      "cell_type": "markdown",
      "metadata": {
        "id": "ky4bXZ_qCRpb"
      },
      "source": [
        "Example 1"
      ]
    },
    {
      "cell_type": "code",
      "metadata": {
        "id": "1mxbk3pY_cFs",
        "colab": {
          "base_uri": "https://localhost:8080/"
        },
        "outputId": "14cb96a8-ebb4-4f6b-e6aa-38e2fcfe4b90"
      },
      "source": [
        "print('c'*5)"
      ],
      "execution_count": null,
      "outputs": [
        {
          "output_type": "stream",
          "text": [
            "ccccc\n"
          ],
          "name": "stdout"
        }
      ]
    },
    {
      "cell_type": "markdown",
      "metadata": {
        "id": "5pb7u5ueCUtY"
      },
      "source": [
        "Example 2"
      ]
    },
    {
      "cell_type": "code",
      "metadata": {
        "id": "fw-h00PJCbgZ",
        "colab": {
          "base_uri": "https://localhost:8080/"
        },
        "outputId": "30e6cae3-24ff-4b8f-a5b2-a45500fea9c8"
      },
      "source": [
        "print('M'+'r'+'.'+\"K\" +'a'+'m'+\"a\"+'u')"
      ],
      "execution_count": null,
      "outputs": [
        {
          "output_type": "stream",
          "text": [
            "Mr.Kamau\n"
          ],
          "name": "stdout"
        }
      ]
    },
    {
      "cell_type": "markdown",
      "metadata": {
        "id": "TnCPBl5tEbEi"
      },
      "source": [
        "Example 3"
      ]
    },
    {
      "cell_type": "code",
      "metadata": {
        "id": "HnnMqlYxEYgP",
        "colab": {
          "base_uri": "https://localhost:8080/"
        },
        "outputId": "7c57ad8d-7dc7-42fc-c318-bb7535945f19"
      },
      "source": [
        "answer = input('What will you be doing over the weekend? ')\n",
        "print('I will be ' + answer)"
      ],
      "execution_count": null,
      "outputs": [
        {
          "output_type": "stream",
          "text": [
            "What will you be doing over the weekend? walking\n",
            "I will be walking\n"
          ],
          "name": "stdout"
        }
      ]
    },
    {
      "cell_type": "markdown",
      "metadata": {
        "id": "tYT_fv4oYPTY"
      },
      "source": [
        "###**a.Mathematical operations**"
      ]
    },
    {
      "cell_type": "code",
      "metadata": {
        "id": "3JxsXrhfYUDh",
        "colab": {
          "base_uri": "https://localhost:8080/"
        },
        "outputId": "4a519d76-1197-4961-8322-3bdc4cb8cc4b"
      },
      "source": [
        "#Addition\n",
        "2+2"
      ],
      "execution_count": null,
      "outputs": [
        {
          "output_type": "execute_result",
          "data": {
            "text/plain": [
              "4"
            ]
          },
          "metadata": {
            "tags": []
          },
          "execution_count": 4
        }
      ]
    },
    {
      "cell_type": "code",
      "metadata": {
        "id": "WQ52ZbwtYabF",
        "colab": {
          "base_uri": "https://localhost:8080/"
        },
        "outputId": "ac328b2f-85d4-47b7-ffd8-c726fbb2a7c5"
      },
      "source": [
        "print(2+2)"
      ],
      "execution_count": null,
      "outputs": [
        {
          "output_type": "stream",
          "text": [
            "4\n"
          ],
          "name": "stdout"
        }
      ]
    },
    {
      "cell_type": "code",
      "metadata": {
        "id": "J7uvI2upYeIU",
        "colab": {
          "base_uri": "https://localhost:8080/"
        },
        "outputId": "9341768e-c416-4b48-e910-5a7f36725acc"
      },
      "source": [
        "#Subtraction\n",
        "7-3"
      ],
      "execution_count": null,
      "outputs": [
        {
          "output_type": "execute_result",
          "data": {
            "text/plain": [
              "4"
            ]
          },
          "metadata": {
            "tags": []
          },
          "execution_count": 6
        }
      ]
    },
    {
      "cell_type": "code",
      "metadata": {
        "id": "l_C7F_hAYi_G",
        "colab": {
          "base_uri": "https://localhost:8080/"
        },
        "outputId": "679e398a-8e68-4c79-f20f-6e7b6da242b2"
      },
      "source": [
        "print(7-3)"
      ],
      "execution_count": null,
      "outputs": [
        {
          "output_type": "stream",
          "text": [
            "4\n"
          ],
          "name": "stdout"
        }
      ]
    },
    {
      "cell_type": "code",
      "metadata": {
        "id": "hqByopxeYnPu",
        "colab": {
          "base_uri": "https://localhost:8080/"
        },
        "outputId": "c7f80017-d8e2-4c1c-ee59-b1323be20bc0"
      },
      "source": [
        "#Multiplication - using the asterisk\n",
        "3*4"
      ],
      "execution_count": null,
      "outputs": [
        {
          "output_type": "execute_result",
          "data": {
            "text/plain": [
              "12"
            ]
          },
          "metadata": {
            "tags": []
          },
          "execution_count": 8
        }
      ]
    },
    {
      "cell_type": "code",
      "metadata": {
        "id": "oZkgzHbSYtkw",
        "colab": {
          "base_uri": "https://localhost:8080/"
        },
        "outputId": "29b82131-3204-4bb7-b9dc-8d8cd4efecd7"
      },
      "source": [
        "print(3*4)"
      ],
      "execution_count": null,
      "outputs": [
        {
          "output_type": "stream",
          "text": [
            "12\n"
          ],
          "name": "stdout"
        }
      ]
    },
    {
      "cell_type": "code",
      "metadata": {
        "id": "Wg39d7dEYyjG",
        "colab": {
          "base_uri": "https://localhost:8080/"
        },
        "outputId": "d67c2504-f6ab-4441-91ce-a3e3f06bb0c5"
      },
      "source": [
        "#Division\n",
        "#There are two types of division.\n",
        "  #a.Division\n",
        "9/2\n",
        "22/7\n",
        "#Notice the answer is returned as a float"
      ],
      "execution_count": null,
      "outputs": [
        {
          "output_type": "execute_result",
          "data": {
            "text/plain": [
              "3.142857142857143"
            ]
          },
          "metadata": {
            "tags": []
          },
          "execution_count": 12
        }
      ]
    },
    {
      "cell_type": "code",
      "metadata": {
        "id": "MarDA8mkZPc_",
        "colab": {
          "base_uri": "https://localhost:8080/"
        },
        "outputId": "5f103551-aca1-4f49-9490-bb98b18db804"
      },
      "source": [
        "  #b.Division\n",
        "\n",
        "22//7\n",
        "#Notice the answer is returned as an integer"
      ],
      "execution_count": null,
      "outputs": [
        {
          "output_type": "execute_result",
          "data": {
            "text/plain": [
              "3"
            ]
          },
          "metadata": {
            "tags": []
          },
          "execution_count": 13
        }
      ]
    },
    {
      "cell_type": "markdown",
      "metadata": {
        "id": "xfxqhjfuZy4X"
      },
      "source": [
        "Python has two division operators, \n",
        "1. a single slash character for classic division and a double-slash for “floor” division (rounds down to nearest whole number). \n",
        "2. Classic division means that if the operands are both integers, it will perform floor division, while for floating point numbers, it represents true division"
      ]
    },
    {
      "cell_type": "code",
      "metadata": {
        "id": "WeR8pXdXZfFL",
        "colab": {
          "base_uri": "https://localhost:8080/"
        },
        "outputId": "ba915db4-b4fd-4d26-fad5-334df90772e6"
      },
      "source": [
        "#modulo\n",
        "#This returns the remainder of a division  expression.\n",
        "\n",
        "10%3"
      ],
      "execution_count": null,
      "outputs": [
        {
          "output_type": "execute_result",
          "data": {
            "text/plain": [
              "1"
            ]
          },
          "metadata": {
            "tags": []
          },
          "execution_count": 14
        }
      ]
    },
    {
      "cell_type": "code",
      "metadata": {
        "id": "flQu1W8zbczT",
        "colab": {
          "base_uri": "https://localhost:8080/"
        },
        "outputId": "fdc082a1-925a-4e48-b10b-36155745c724"
      },
      "source": [
        "print(9%3)"
      ],
      "execution_count": null,
      "outputs": [
        {
          "output_type": "stream",
          "text": [
            "0\n"
          ],
          "name": "stdout"
        }
      ]
    },
    {
      "cell_type": "code",
      "metadata": {
        "id": "zZwUEFXMbhrh",
        "colab": {
          "base_uri": "https://localhost:8080/"
        },
        "outputId": "d64c6e69-59c4-46b8-b135-984e27d0a8b8"
      },
      "source": [
        "# Exponential - use double asterisk\n",
        "2^4\n",
        "4^4\n",
        "\n",
        "#2**4"
      ],
      "execution_count": null,
      "outputs": [
        {
          "output_type": "execute_result",
          "data": {
            "text/plain": [
              "0"
            ]
          },
          "metadata": {
            "tags": []
          },
          "execution_count": 20
        }
      ]
    },
    {
      "cell_type": "code",
      "metadata": {
        "id": "bdxtDdfPcMvF",
        "colab": {
          "base_uri": "https://localhost:8080/"
        },
        "outputId": "ea321f7d-268c-4a5d-a5fb-e170931652a4"
      },
      "source": [
        "print(2**4)"
      ],
      "execution_count": null,
      "outputs": [
        {
          "output_type": "stream",
          "text": [
            "16\n"
          ],
          "name": "stdout"
        }
      ]
    },
    {
      "cell_type": "markdown",
      "metadata": {
        "id": "f79sfHLoVA2Y"
      },
      "source": [
        "**Exercise 3**\n",
        "\n"
      ]
    },
    {
      "cell_type": "code",
      "metadata": {
        "id": "dFJOy1m3ckp1",
        "colab": {
          "base_uri": "https://localhost:8080/"
        },
        "outputId": "f92645bc-c7f9-4dad-bf57-84ffddd474aa"
      },
      "source": [
        "#a.\n",
        "print(2 *(3+7))"
      ],
      "execution_count": null,
      "outputs": [
        {
          "output_type": "stream",
          "text": [
            "20\n"
          ],
          "name": "stdout"
        }
      ]
    },
    {
      "cell_type": "code",
      "metadata": {
        "id": "WZXJAH18cnAV",
        "colab": {
          "base_uri": "https://localhost:8080/"
        },
        "outputId": "348309db-de90-4647-f8f7-a80f87a64a26"
      },
      "source": [
        "#b.\n",
        "print(16//9)"
      ],
      "execution_count": null,
      "outputs": [
        {
          "output_type": "stream",
          "text": [
            "1\n"
          ],
          "name": "stdout"
        }
      ]
    },
    {
      "cell_type": "code",
      "metadata": {
        "id": "zWTWpZ2Qc4K-",
        "colab": {
          "base_uri": "https://localhost:8080/"
        },
        "outputId": "66e22c6b-e33f-4101-8f4a-ec266961ed82"
      },
      "source": [
        "#c. \n",
        "print((4 +8)/2)"
      ],
      "execution_count": null,
      "outputs": [
        {
          "output_type": "stream",
          "text": [
            "6.0\n"
          ],
          "name": "stdout"
        }
      ]
    },
    {
      "cell_type": "code",
      "metadata": {
        "id": "DDCfQ7bSdDza",
        "colab": {
          "base_uri": "https://localhost:8080/"
        },
        "outputId": "155629f2-1213-4d2c-b08e-5942ff954a94"
      },
      "source": [
        "#d.\n",
        "print(4**6)"
      ],
      "execution_count": null,
      "outputs": [
        {
          "output_type": "stream",
          "text": [
            "4096\n"
          ],
          "name": "stdout"
        }
      ]
    },
    {
      "cell_type": "code",
      "metadata": {
        "id": "2CghrcxDpjBg"
      },
      "source": [
        "first name =(\" \")"
      ],
      "execution_count": null,
      "outputs": []
    },
    {
      "cell_type": "code",
      "metadata": {
        "id": "G3VCmyPJdes0"
      },
      "source": [
        "#e.\n",
        "#Use python exponential  function to obtain 64 as the output"
      ],
      "execution_count": null,
      "outputs": []
    },
    {
      "cell_type": "markdown",
      "metadata": {
        "id": "yKwUNIlnh2N-"
      },
      "source": [
        "To further information on math and math funtions visit this [link](https://docs.python.org/3/library/math.html)"
      ]
    },
    {
      "cell_type": "markdown",
      "metadata": {
        "id": "kIq8gbeyh8wN"
      },
      "source": [
        "## 4.Variables "
      ]
    },
    {
      "cell_type": "markdown",
      "metadata": {
        "id": "E1kA7A7yiNIb"
      },
      "source": [
        "Used to store values.We use an equal sign to assign.\n",
        "Use underscores to separate words and begin with letters when naming."
      ]
    },
    {
      "cell_type": "code",
      "metadata": {
        "id": "A1PuFh0ijWYV"
      },
      "source": [
        "today = \"Saturday\"\n",
        "x= 67\n",
        "price = 500.00\n",
        "good_shirt = True"
      ],
      "execution_count": null,
      "outputs": []
    },
    {
      "cell_type": "markdown",
      "metadata": {
        "id": "l_mgIRx9mNQA"
      },
      "source": [
        "Exercise 4a"
      ]
    },
    {
      "cell_type": "code",
      "metadata": {
        "id": "tthoDSN6i-r2"
      },
      "source": [
        "#Print all the following items above\n"
      ],
      "execution_count": null,
      "outputs": []
    },
    {
      "cell_type": "markdown",
      "metadata": {
        "id": "29pS_fExmwVy"
      },
      "source": [
        "We have seen how the function print works with variables. Now let us look at how another function, input works with variables."
      ]
    },
    {
      "cell_type": "markdown",
      "metadata": {
        "id": "t844jOZTnUNl"
      },
      "source": [
        "Examples"
      ]
    },
    {
      "cell_type": "code",
      "metadata": {
        "id": "EziBbfVtpO8s",
        "colab": {
          "base_uri": "https://localhost:8080/"
        },
        "outputId": "392eb9b5-6763-45cd-bd68-d969f79fa180"
      },
      "source": [
        "name = input()\n",
        "age = input()\n",
        "\n",
        "print(name + \" is \" + age )"
      ],
      "execution_count": null,
      "outputs": [
        {
          "output_type": "stream",
          "text": [
            "Derrick\n",
            "25\n",
            "Derrick is 25\n"
          ],
          "name": "stdout"
        }
      ]
    },
    {
      "cell_type": "code",
      "metadata": {
        "colab": {
          "base_uri": "https://localhost:8080/"
        },
        "id": "gSf7i0jRstBZ",
        "outputId": "c5547324-89b4-4b90-b54e-05ca17b79ced"
      },
      "source": [
        "type(age)"
      ],
      "execution_count": null,
      "outputs": [
        {
          "output_type": "execute_result",
          "data": {
            "text/plain": [
              "str"
            ]
          },
          "metadata": {
            "tags": []
          },
          "execution_count": 38
        }
      ]
    },
    {
      "cell_type": "code",
      "metadata": {
        "id": "9RFrSSXhnTUC",
        "colab": {
          "base_uri": "https://localhost:8080/"
        },
        "outputId": "5365f385-25f1-4104-913b-e400a94a7e17"
      },
      "source": [
        "#2.\n",
        "name = input(\"Enter your name: \")\n",
        "print(\"Hello, \" + name)"
      ],
      "execution_count": null,
      "outputs": [
        {
          "output_type": "stream",
          "text": [
            "Enter your name: Charles\n",
            "Hello, Charles\n"
          ],
          "name": "stdout"
        }
      ]
    },
    {
      "cell_type": "markdown",
      "metadata": {
        "id": "ZKsC0CpmpJdB"
      },
      "source": [
        "One can use input a mutiple of times.\n"
      ]
    },
    {
      "cell_type": "code",
      "metadata": {
        "colab": {
          "base_uri": "https://localhost:8080/"
        },
        "id": "nizkoLB-ntQE",
        "outputId": "c8b4177c-2611-49ea-dc7c-9320fde745c2"
      },
      "source": [
        "#3.\n",
        "age = 42\n",
        "\n",
        "print(\"His age is \" + str(age))"
      ],
      "execution_count": null,
      "outputs": [
        {
          "output_type": "stream",
          "text": [
            "His age is 42\n"
          ],
          "name": "stdout"
        }
      ]
    },
    {
      "cell_type": "code",
      "metadata": {
        "id": "-IN1_FudsU9m"
      },
      "source": [
        ""
      ],
      "execution_count": null,
      "outputs": []
    },
    {
      "cell_type": "markdown",
      "metadata": {
        "id": "n1RjR4ravAhT"
      },
      "source": [
        "***Getting length of string***"
      ]
    },
    {
      "cell_type": "code",
      "metadata": {
        "colab": {
          "base_uri": "https://localhost:8080/"
        },
        "id": "h5xGDjwivGXm",
        "outputId": "1523ef98-ee67-46d5-ad80-09de9e7b08fc"
      },
      "source": [
        "statement = 'Python is Fun'\n",
        "print(len(statement))"
      ],
      "execution_count": null,
      "outputs": [
        {
          "output_type": "stream",
          "text": [
            "13\n"
          ],
          "name": "stdout"
        }
      ]
    },
    {
      "cell_type": "markdown",
      "metadata": {
        "id": "mq6p04dBvkLM"
      },
      "source": [
        "***Turning to upper case using upper method*** "
      ]
    },
    {
      "cell_type": "code",
      "metadata": {
        "id": "lGZ8VrletQBM"
      },
      "source": [
        "statement."
      ],
      "execution_count": null,
      "outputs": []
    },
    {
      "cell_type": "code",
      "metadata": {
        "colab": {
          "base_uri": "https://localhost:8080/"
        },
        "id": "AxFxJG1svzWj",
        "outputId": "a1ca3487-7022-4b25-bfbc-b4ced71f7a81"
      },
      "source": [
        "print(statement.upper())"
      ],
      "execution_count": null,
      "outputs": [
        {
          "output_type": "stream",
          "text": [
            "PYTHON IS FUN\n"
          ],
          "name": "stdout"
        }
      ]
    },
    {
      "cell_type": "markdown",
      "metadata": {
        "id": "IqitzL1TwYkl"
      },
      "source": [
        "***Turning string to lower case using lower method***"
      ]
    },
    {
      "cell_type": "code",
      "metadata": {
        "colab": {
          "base_uri": "https://localhost:8080/"
        },
        "id": "YaImRiCRw2L-",
        "outputId": "d12b4b38-bb98-4e81-aa8e-71665653f037"
      },
      "source": [
        "print(statement.lower())"
      ],
      "execution_count": null,
      "outputs": [
        {
          "output_type": "stream",
          "text": [
            "python is fun\n"
          ],
          "name": "stdout"
        }
      ]
    },
    {
      "cell_type": "markdown",
      "metadata": {
        "id": "CUE1y-Mdo3DG"
      },
      "source": [
        "As said before inorder to convert a number to a string , we use the str() function."
      ]
    },
    {
      "cell_type": "markdown",
      "metadata": {
        "id": "hE4_gsy_RDiJ"
      },
      "source": [
        "***Python String replace() Method***"
      ]
    },
    {
      "cell_type": "markdown",
      "metadata": {
        "id": "3jkMKGFORhKW"
      },
      "source": [
        "One can call the string.replace(old, new) method using the string object"
      ]
    },
    {
      "cell_type": "code",
      "metadata": {
        "colab": {
          "base_uri": "https://localhost:8080/"
        },
        "id": "1lV52Ap0RRcG",
        "outputId": "9638f1b4-cca4-4e4f-8123-98413e39bbc2"
      },
      "source": [
        "s = \"I have taken two glasses of water\"\n",
        "s = s.replace(\"two\",\"five\")\n",
        "print(s)"
      ],
      "execution_count": null,
      "outputs": [
        {
          "output_type": "stream",
          "text": [
            "I have taken five glasses of water\n"
          ],
          "name": "stdout"
        }
      ]
    },
    {
      "cell_type": "markdown",
      "metadata": {
        "id": "DJKQ-HofSXEq"
      },
      "source": [
        "One mat have two or more words that are the same.\n",
        "\n",
        "Eg.\n",
        "\n",
        "My dog has two puppies and my cat has two kitten.\n",
        "\n",
        "How does one replace the second 'two' and put five.\n",
        "\n",
        "this is done as follows.\n",
        "\n",
        "By default its all the matching words that are replaced."
      ]
    },
    {
      "cell_type": "code",
      "metadata": {
        "colab": {
          "base_uri": "https://localhost:8080/"
        },
        "id": "3HZBtoSRS6F-",
        "outputId": "030d8cf1-966d-4143-9655-2f5fa4833638"
      },
      "source": [
        "pets1 = \"My dog has two puppies and my cat has two kitten.\"\n",
        "pets1 = pets1.replace(\"two\",\"seven\",-1)\n",
        "print(pets1)"
      ],
      "execution_count": null,
      "outputs": [
        {
          "output_type": "stream",
          "text": [
            "My dog has seven puppies and my cat has seven kitten.\n"
          ],
          "name": "stdout"
        }
      ]
    },
    {
      "cell_type": "markdown",
      "metadata": {
        "id": "Dh8rY8LHgAH0"
      },
      "source": [
        "***join() function in Python***"
      ]
    },
    {
      "cell_type": "markdown",
      "metadata": {
        "id": "NgioBXYHgJKa"
      },
      "source": [
        "The join() method is a string method\n",
        "\n",
        "\n",
        "This is a function to join different elements and returning the output as a string."
      ]
    },
    {
      "cell_type": "code",
      "metadata": {
        "colab": {
          "base_uri": "https://localhost:8080/"
        },
        "id": "2AKPaL2ohdtv",
        "outputId": "1491a0ce-8f61-4424-ddab-bf653838c512"
      },
      "source": [
        "# .join() with lists\n",
        "numList = ['1', '2', '3', '4']\n",
        "separator = ' then '\n"
      ],
      "execution_count": null,
      "outputs": [
        {
          "output_type": "stream",
          "text": [
            "1 then 2 then 3 then 4\n"
          ],
          "name": "stdout"
        }
      ]
    },
    {
      "cell_type": "code",
      "metadata": {
        "colab": {
          "base_uri": "https://localhost:8080/"
        },
        "id": "eU6xttCMv_VP",
        "outputId": "16e9b417-94d4-43a2-8b37-4402a13dd425"
      },
      "source": [
        "new = separator.join(numList)\n",
        "print(new)"
      ],
      "execution_count": null,
      "outputs": [
        {
          "output_type": "stream",
          "text": [
            "1 then 2 then 3 then 4\n"
          ],
          "name": "stdout"
        }
      ]
    },
    {
      "cell_type": "code",
      "metadata": {
        "colab": {
          "base_uri": "https://localhost:8080/"
        },
        "id": "Hqf_xc9BvgGP",
        "outputId": "a7b8c58a-65bd-4db6-8bfc-39c7f986562b"
      },
      "source": [
        "print(numList)"
      ],
      "execution_count": null,
      "outputs": [
        {
          "output_type": "stream",
          "text": [
            "['1', '2', '3', '4']\n"
          ],
          "name": "stdout"
        }
      ]
    },
    {
      "cell_type": "code",
      "metadata": {
        "colab": {
          "base_uri": "https://localhost:8080/"
        },
        "id": "rvHd_3QgTxde",
        "outputId": "3f58f2e4-bf97-4140-ae72-bbb0f906f915"
      },
      "source": [
        "# Python program to demonstrate the \n",
        "# use of join function to join list \n",
        "# elements with a character. \n",
        "  \n",
        "list1 = ['1','2','3','4']  \n",
        "  \n",
        "s = \"-\"\n",
        "  \n",
        "# joins elements of list1 by '-' \n",
        "# and stores in sting s \n",
        "s = s.join(list1) \n",
        "  \n",
        "# join use to join a list of \n",
        "# strings to a separator s \n",
        "print(s) "
      ],
      "execution_count": null,
      "outputs": [
        {
          "output_type": "stream",
          "text": [
            "1-2-3-4\n"
          ],
          "name": "stdout"
        }
      ]
    },
    {
      "cell_type": "code",
      "metadata": {
        "colab": {
          "base_uri": "https://localhost:8080/"
        },
        "id": "uipFUy36ku15",
        "outputId": "6aa07894-bc19-436b-99b6-7023e63dfba2"
      },
      "source": [
        "# define strings                                                         \n",
        "firstname = \"John\"\n",
        "lastname = \"Delly\"\n",
        "\n",
        "# define our sequence                                                    \n",
        "seque = (firstname,lastname)\n",
        "\n",
        "# join into new string                                                   \n",
        "name = \" \".join(seque)\n",
        "print(name)"
      ],
      "execution_count": null,
      "outputs": [
        {
          "output_type": "stream",
          "text": [
            "John Delly\n"
          ],
          "name": "stdout"
        }
      ]
    },
    {
      "cell_type": "code",
      "metadata": {
        "colab": {
          "base_uri": "https://localhost:8080/"
        },
        "id": "9u48IO3FlDaC",
        "outputId": "5ffc27a1-8bf3-433a-8e4d-5e5596488d93"
      },
      "source": [
        "words = [\"How\",\"are\",\"you\",\"doing\",\"?\"]\n",
        "sentence = ' '.join(words)\n",
        "print(sentence)"
      ],
      "execution_count": null,
      "outputs": [
        {
          "output_type": "stream",
          "text": [
            "How are you doing ?\n"
          ],
          "name": "stdout"
        }
      ]
    },
    {
      "cell_type": "markdown",
      "metadata": {
        "id": "0u1PEhk8Yol7"
      },
      "source": [
        "## 5.CONTROL STRUCTURES"
      ]
    },
    {
      "cell_type": "markdown",
      "metadata": {
        "id": "JYuadTC5ZJaY"
      },
      "source": [
        "A control structure (or flow of control) is a block of programming that analyses variables and chooses a direction in which to go based on given parameters.\n",
        "\n",
        "\n",
        "So, it is the basic **decision-making** process in programming"
      ]
    },
    {
      "cell_type": "markdown",
      "metadata": {
        "id": "bnOYs97EZz5_"
      },
      "source": [
        "Flow of control through any given program is implemented with three basic types of control structures:\n",
        " ,\n",
        "    \n",
        " \n",
        "\n",
        "\n",
        "\n",
        "1.   **Sequential** - Sequential execution is when statements are executed one after another in order. You don't need to do anything more for this to happen.\n",
        "\n",
        "2.   **Selection** - Selection used for decisions, branching - choosing between 2 or more alternative paths. \n",
        "\n",
        "     eg if, if ..else , switch\n",
        "3.   **Repetition** - Repetition used for looping, i.e. repeating a piece of code multiple times in a row.\n",
        "\n",
        "\n",
        "\n",
        "\n",
        "\n"
      ]
    },
    {
      "cell_type": "markdown",
      "metadata": {
        "id": "wQRKJZoEaHGZ"
      },
      "source": [
        "![control.png](data:image/png;base64,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)"
      ]
    },
    {
      "cell_type": "markdown",
      "metadata": {
        "id": "q1V0QUjHYwt3"
      },
      "source": [
        "#### a. Booleans - **True** and **False**"
      ]
    },
    {
      "cell_type": "code",
      "metadata": {
        "colab": {
          "base_uri": "https://localhost:8080/"
        },
        "id": "Wa-6vqTtcZpD",
        "outputId": "08f80281-abb4-42c2-93c5-6a029b3cad3d"
      },
      "source": [
        "#Examples\n",
        "raining = False\n",
        "print(raining)"
      ],
      "execution_count": null,
      "outputs": [
        {
          "output_type": "stream",
          "text": [
            "False\n"
          ],
          "name": "stdout"
        }
      ]
    },
    {
      "cell_type": "code",
      "metadata": {
        "colab": {
          "base_uri": "https://localhost:8080/"
        },
        "id": "bg-habNdco0q",
        "outputId": "bacba4b8-9b8c-4373-9fd8-b3cb7e3c258f"
      },
      "source": [
        "x = 2==3\n",
        "print(x)"
      ],
      "execution_count": null,
      "outputs": [
        {
          "output_type": "stream",
          "text": [
            "False\n"
          ],
          "name": "stdout"
        }
      ]
    },
    {
      "cell_type": "code",
      "metadata": {
        "id": "hLqjjw_ldnD4",
        "colab": {
          "base_uri": "https://localhost:8080/"
        },
        "outputId": "9c76b053-1886-4cd0-cf04-eccd3669835e"
      },
      "source": [
        "print(100 <= 90)"
      ],
      "execution_count": null,
      "outputs": [
        {
          "output_type": "stream",
          "text": [
            "False\n"
          ],
          "name": "stdout"
        }
      ]
    },
    {
      "cell_type": "code",
      "metadata": {
        "id": "aQ_QSF9fc6ig",
        "colab": {
          "base_uri": "https://localhost:8080/"
        },
        "outputId": "1e95d4b5-c74b-49a1-d5da-5a4ec3fdb93c"
      },
      "source": [
        "print(\"Charles\" == \"harles\")"
      ],
      "execution_count": null,
      "outputs": [
        {
          "output_type": "stream",
          "text": [
            "False\n"
          ],
          "name": "stdout"
        }
      ]
    },
    {
      "cell_type": "code",
      "metadata": {
        "colab": {
          "base_uri": "https://localhost:8080/"
        },
        "id": "DqQaNJfUx9C5",
        "outputId": "f73d0a4f-1110-4b59-d73e-efa053f27ad9"
      },
      "source": [
        "print(\"chalu\" > \"chalea\")"
      ],
      "execution_count": null,
      "outputs": [
        {
          "output_type": "stream",
          "text": [
            "True\n"
          ],
          "name": "stdout"
        }
      ]
    },
    {
      "cell_type": "markdown",
      "metadata": {
        "id": "IeKvNnSkdFmi"
      },
      "source": [
        "NB - In python one equals sign 0s an assignment sign\n",
        "\n",
        " eg\n",
        "price =250\n",
        "\n",
        " Two equals is used to compare hence used with boolean instances.\n",
        "\n",
        "\n",
        " NB - When you want to show something is not equal to another , one uses the (!=)\n",
        "\n",
        "\n",
        " eg."
      ]
    },
    {
      "cell_type": "code",
      "metadata": {
        "colab": {
          "base_uri": "https://localhost:8080/"
        },
        "id": "TDQWAN0MeIlY",
        "outputId": "bcc86d7b-9910-4371-f0aa-012be793223f"
      },
      "source": [
        "#Example1\n",
        "\n",
        "print(10 != 10)"
      ],
      "execution_count": null,
      "outputs": [
        {
          "output_type": "stream",
          "text": [
            "False\n"
          ],
          "name": "stdout"
        }
      ]
    },
    {
      "cell_type": "code",
      "metadata": {
        "colab": {
          "base_uri": "https://localhost:8080/"
        },
        "id": "WPYxouBkenpS",
        "outputId": "fd47ea92-9028-4dc9-f077-865fc2d882e8"
      },
      "source": [
        "list_A = ['chair','table','stool','hous']\n",
        "list_B = ['chair','table','stool','house']\n",
        "\n",
        "print(list_A != list_B)"
      ],
      "execution_count": null,
      "outputs": [
        {
          "output_type": "stream",
          "text": [
            "True\n"
          ],
          "name": "stdout"
        }
      ]
    },
    {
      "cell_type": "markdown",
      "metadata": {
        "id": "rpPb0-QqgHv6"
      },
      "source": [
        "Exercise- \n",
        "\n",
        "What is the output of the code below."
      ]
    },
    {
      "cell_type": "code",
      "metadata": {
        "id": "y_u8_xdEffd0",
        "colab": {
          "base_uri": "https://localhost:8080/"
        },
        "outputId": "98a2ecac-55aa-4bbe-9572-0c10c5f91e3e"
      },
      "source": [
        "#1.\n",
        "print(34 == 34.0)"
      ],
      "execution_count": null,
      "outputs": [
        {
          "output_type": "stream",
          "text": [
            "True\n"
          ],
          "name": "stdout"
        }
      ]
    },
    {
      "cell_type": "code",
      "metadata": {
        "id": "voEICAKwgLyL"
      },
      "source": [
        "#2.\n",
        "print(\"Annie\">\"Annitta\")"
      ],
      "execution_count": null,
      "outputs": []
    },
    {
      "cell_type": "markdown",
      "metadata": {
        "id": "1NZ8GmKu4tm0"
      },
      "source": [
        "**i).Boolean logic using and**\n",
        "\n",
        "Both conditions have to be met"
      ]
    },
    {
      "cell_type": "code",
      "metadata": {
        "colab": {
          "base_uri": "https://localhost:8080/"
        },
        "id": "rD1HFG8C4x4a",
        "outputId": "83587718-0a0c-4ce5-becc-c91a10500a35"
      },
      "source": [
        "print( 1==1 & 2 ==2 )"
      ],
      "execution_count": null,
      "outputs": [
        {
          "output_type": "stream",
          "text": [
            "False\n"
          ],
          "name": "stdout"
        }
      ]
    },
    {
      "cell_type": "markdown",
      "metadata": {
        "id": "wm1R6cFf02Pc"
      },
      "source": [
        "[using &](https://www.geeksforgeeks.org/python-bitwise-operators/?ref=lbp\n",
        "\n",
        "[another](https://www.geeksforgeeks.org/difference-between-and-and-in-python/?ref=lbp)\n",
        "\n"
      ]
    },
    {
      "cell_type": "code",
      "metadata": {
        "id": "PudDiYLt1FZT"
      },
      "source": [
        ""
      ],
      "execution_count": null,
      "outputs": []
    },
    {
      "cell_type": "code",
      "metadata": {
        "colab": {
          "base_uri": "https://localhost:8080/"
        },
        "id": "njOpw6Pv4_O4",
        "outputId": "e354c598-8ff0-42c3-b10c-0b94b3b00663"
      },
      "source": [
        "print(2 < 1 and 3 <=6)"
      ],
      "execution_count": null,
      "outputs": [
        {
          "output_type": "stream",
          "text": [
            "False\n"
          ],
          "name": "stdout"
        }
      ]
    },
    {
      "cell_type": "markdown",
      "metadata": {
        "id": "jrE7Bi5p5Sgb"
      },
      "source": [
        "**ii). Boolean logic using or**\n",
        "\n",
        "It evaluates to true if both of its arguments are True, False if both arguments are False"
      ]
    },
    {
      "cell_type": "code",
      "metadata": {
        "colab": {
          "base_uri": "https://localhost:8080/"
        },
        "id": "k7w78T4z5qtF",
        "outputId": "1356abab-287d-41c7-dc2b-89f77c7fa8c9"
      },
      "source": [
        "print(1 ==1 or 2==2)"
      ],
      "execution_count": null,
      "outputs": [
        {
          "output_type": "stream",
          "text": [
            "True\n"
          ],
          "name": "stdout"
        }
      ]
    },
    {
      "cell_type": "code",
      "metadata": {
        "colab": {
          "base_uri": "https://localhost:8080/"
        },
        "id": "r7zJ7dlK5xxx",
        "outputId": "ace6cfc2-3a91-44fa-ff40-1aa1fdb3e86f"
      },
      "source": [
        "print( 2<1 or 3>6)"
      ],
      "execution_count": null,
      "outputs": [
        {
          "output_type": "stream",
          "text": [
            "False\n"
          ],
          "name": "stdout"
        }
      ]
    },
    {
      "cell_type": "markdown",
      "metadata": {
        "id": "Nxw8F_0q6A2a"
      },
      "source": [
        "**iii).Boolean Not**"
      ]
    },
    {
      "cell_type": "markdown",
      "metadata": {
        "id": "7U0f8XuM6afK"
      },
      "source": [
        "Reverts True to False and vice versa"
      ]
    },
    {
      "cell_type": "code",
      "metadata": {
        "colab": {
          "base_uri": "https://localhost:8080/"
        },
        "id": "KaGtZf8d6Vb1",
        "outputId": "f7a7663d-2052-4c1d-eda9-bc200a423969"
      },
      "source": [
        "print(not 1==1)\n",
        "\n",
        "#!="
      ],
      "execution_count": null,
      "outputs": [
        {
          "output_type": "stream",
          "text": [
            "False\n"
          ],
          "name": "stdout"
        }
      ]
    },
    {
      "cell_type": "code",
      "metadata": {
        "colab": {
          "base_uri": "https://localhost:8080/"
        },
        "id": "ZoEU9jBc6f9A",
        "outputId": "980e2d69-e8f7-49c5-80b2-7f78ff6f2cbd"
      },
      "source": [
        "print(not 1>7)"
      ],
      "execution_count": null,
      "outputs": [
        {
          "output_type": "stream",
          "text": [
            "True\n"
          ],
          "name": "stdout"
        }
      ]
    },
    {
      "cell_type": "markdown",
      "metadata": {
        "id": "hI9year3eiev"
      },
      "source": [
        "### b. If Statements"
      ]
    },
    {
      "cell_type": "markdown",
      "metadata": {
        "id": "wLTxfmPIiDcb"
      },
      "source": [
        "If statements are used to run code only if a condition holds.\n",
        "\n",
        "After writing the expresion use the :\n",
        "and the python code will automatically indent the statements.\n",
        "\n",
        "\n",
        "   \n",
        "\n",
        "```\n",
        "if expression:\n",
        "    statements\n",
        "```\n",
        "\n",
        "\n",
        "\n",
        "        "
      ]
    },
    {
      "cell_type": "code",
      "metadata": {
        "colab": {
          "base_uri": "https://localhost:8080/"
        },
        "id": "V5eGn7hJh-Qp",
        "outputId": "fb582439-6bb3-4a6a-d6cd-3fbe8720470c"
      },
      "source": [
        "if 10 < 5:\n",
        "  print(\"10 is greater than 5\")\n",
        "\n",
        "print('Program ended')\n",
        "\n",
        "\n",
        "#The  first print only works if the condition is satisfied.\n",
        "#The second print is shown since it is not in the indent."
      ],
      "execution_count": null,
      "outputs": [
        {
          "output_type": "stream",
          "text": [
            "Program ended\n"
          ],
          "name": "stdout"
        }
      ]
    },
    {
      "cell_type": "code",
      "metadata": {
        "id": "nBLGix38lUDg",
        "colab": {
          "base_uri": "https://localhost:8080/"
        },
        "outputId": "bfa97643-481e-4361-f4a5-1140a473faad"
      },
      "source": [
        "if 'avo' in 'avocado':\n",
        "  print('Found')\n",
        "  print('True')\n",
        "  print('Correct')\n",
        "   "
      ],
      "execution_count": null,
      "outputs": [
        {
          "output_type": "stream",
          "text": [
            "Found\n",
            "True\n",
            "Correct\n"
          ],
          "name": "stdout"
        }
      ]
    },
    {
      "cell_type": "code",
      "metadata": {
        "colab": {
          "base_uri": "https://localhost:8080/"
        },
        "id": "ic_tCLN56W9e",
        "outputId": "c17f1d83-616a-49e1-a0fe-d71bbe57b054"
      },
      "source": [
        "\n",
        "# We can write an if statement by using the if keyword as shown:\n",
        "#\n",
        "x = 200\n",
        "y = 100\n",
        "if y < x:\n",
        "  print(\"y is less than x\")"
      ],
      "execution_count": null,
      "outputs": [
        {
          "output_type": "stream",
          "text": [
            "y is less than x\n"
          ],
          "name": "stdout"
        }
      ]
    },
    {
      "cell_type": "code",
      "metadata": {
        "id": "G5VVulFm6clG"
      },
      "source": [
        "# Below is another example of an if statement\n",
        "#\n",
        "x = 1\n",
        "y = 7\n",
        "\n",
        "# let's find out if x is greater than 7\n",
        "if x > y: \n",
        "  print('yes')"
      ],
      "execution_count": null,
      "outputs": []
    },
    {
      "cell_type": "markdown",
      "metadata": {
        "id": "9ye4jlEKyvmm"
      },
      "source": [
        "### c.If---else"
      ]
    },
    {
      "cell_type": "markdown",
      "metadata": {
        "id": "1qUR1KtOy1wb"
      },
      "source": [
        "Allows one to check conditions and then run some statements.\n",
        "\n",
        "used when the conditions are two."
      ]
    },
    {
      "cell_type": "code",
      "metadata": {
        "colab": {
          "base_uri": "https://localhost:8080/"
        },
        "id": "w4yOnh0Ly-3p",
        "outputId": "b8827507-9c0d-4cf0-ecc8-2c0252677a2e"
      },
      "source": [
        "x=60\n",
        "if x==61:\n",
        "  print(\"Correct\")\n",
        "else:\n",
        "  print(\"Not correct\")"
      ],
      "execution_count": null,
      "outputs": [
        {
          "output_type": "stream",
          "text": [
            "Not correct\n"
          ],
          "name": "stdout"
        }
      ]
    },
    {
      "cell_type": "markdown",
      "metadata": {
        "id": "QwW6PYlUzata"
      },
      "source": [
        "### d. elif statements"
      ]
    },
    {
      "cell_type": "markdown",
      "metadata": {
        "id": "-CexPzeazkKz"
      },
      "source": [
        "Elif - shortform for else if.\n",
        "\n",
        "used when the conditions are more than two."
      ]
    },
    {
      "cell_type": "code",
      "metadata": {
        "id": "okediIPI7CGL",
        "colab": {
          "base_uri": "https://localhost:8080/"
        },
        "outputId": "36db764d-159b-4abc-8ff2-d71a5b3f9339"
      },
      "source": [
        "# The elif keyword is a keyword that will try another condition \n",
        "# if the previous condition was not true.\n",
        "# The example below shows how the elif keyword can be used.\n",
        "# \n",
        "x = 33\n",
        "y = 33\n",
        "\n",
        "if y < x:\n",
        "  print(\"y is less than x\")\n",
        "elif x == y:\n",
        "  print(\"x and y are equal\")"
      ],
      "execution_count": null,
      "outputs": [
        {
          "output_type": "stream",
          "text": [
            "x and y are equal\n"
          ],
          "name": "stdout"
        }
      ]
    },
    {
      "cell_type": "code",
      "metadata": {
        "id": "y4oDghWC7H4v",
        "colab": {
          "base_uri": "https://localhost:8080/"
        },
        "outputId": "5505ff74-8525-4e29-8d2b-b70cd4019bc1"
      },
      "source": [
        "#\n",
        "choice = 'a'\n",
        "if choice == 'a':\n",
        "    print(\"You chose 'a'.\")\n",
        "elif choice == 'b':\n",
        "    print(\"You chose 'b'.\")\n",
        "elif choice == 'c':\n",
        "    print(\"You chose 'c'.\")"
      ],
      "execution_count": null,
      "outputs": [
        {
          "output_type": "stream",
          "text": [
            "You chose 'a'.\n"
          ],
          "name": "stdout"
        }
      ]
    },
    {
      "cell_type": "code",
      "metadata": {
        "colab": {
          "base_uri": "https://localhost:8080/"
        },
        "id": "_ffkWRv5b8T1",
        "outputId": "5096d42e-511e-47d8-fe66-5d551a97e047"
      },
      "source": [
        "#Example\n",
        "score =75\n",
        "\n",
        "if score >= 90:\n",
        "   print('A')\n",
        "elif score >=80:\n",
        "   print('B')\n",
        "elif score >= 70:\n",
        "   print('C')\n",
        "elif score >= 60:\n",
        "   print('D')\n",
        "else:\n",
        "   print('F')"
      ],
      "execution_count": null,
      "outputs": [
        {
          "output_type": "stream",
          "text": [
            "A\n"
          ],
          "name": "stdout"
        }
      ]
    },
    {
      "cell_type": "code",
      "metadata": {
        "colab": {
          "base_uri": "https://localhost:8080/"
        },
        "id": "bD1NhYHS0CUo",
        "outputId": "447a5837-1736-4ea5-ae6c-3e91c2d66eb1"
      },
      "source": [
        "#Example \n",
        "number = 3\n",
        "if number ==1:\n",
        "  print(\"This is number one\")\n",
        "elif number == 2:\n",
        "  print('This is number 2')\n",
        "elif number == 3:\n",
        "  print('This is number 3')\n",
        "else:\n",
        "  print('This is number 4')\n"
      ],
      "execution_count": null,
      "outputs": [
        {
          "output_type": "stream",
          "text": [
            "This is number 3\n"
          ],
          "name": "stdout"
        }
      ]
    },
    {
      "cell_type": "code",
      "metadata": {
        "colab": {
          "base_uri": "https://localhost:8080/"
        },
        "id": "sVWlKdq86yFX",
        "outputId": "9c175d13-c0aa-4913-9614-c638b4151efb"
      },
      "source": [
        "#Examples\n",
        "marks = 110\n",
        "if (marks >= 80 and marks <= 100):\n",
        "  print('You scored an A')\n",
        "elif (marks >= 70 and marks < 80):\n",
        "  print('You scored  a B')\n",
        "elif (marks >= 60 and marks < 70):\n",
        "  print('You scored a C')\n",
        "elif (marks >= 50 and marks < 60):\n",
        "  print('You scored a D')\n",
        "elif (marks >=0  and marks <49):\n",
        "  print('YOu have failed')\n",
        "else:\n",
        "  print('Input correct marks')"
      ],
      "execution_count": null,
      "outputs": [
        {
          "output_type": "stream",
          "text": [
            "Input correct marks\n"
          ],
          "name": "stdout"
        }
      ]
    },
    {
      "cell_type": "markdown",
      "metadata": {
        "id": "8zIsBQoz7dhO"
      },
      "source": [
        "### e. And"
      ]
    },
    {
      "cell_type": "code",
      "metadata": {
        "id": "16ODnjVJ7guI",
        "colab": {
          "base_uri": "https://localhost:8080/"
        },
        "outputId": "a1ab2e1e-ec56-49b2-feae-4ce6afc2bb09"
      },
      "source": [
        "#Example 1\n",
        "# Declaring our variables\n",
        "x = 11\n",
        "y = 10\n",
        "z = 12\n",
        "\n",
        "if x > y and z > x:\n",
        "  print(\"Both conditions are True\")"
      ],
      "execution_count": null,
      "outputs": [
        {
          "output_type": "stream",
          "text": [
            "Both conditions are True\n"
          ],
          "name": "stdout"
        }
      ]
    },
    {
      "cell_type": "code",
      "metadata": {
        "id": "uGCKH2ZI7roE",
        "colab": {
          "base_uri": "https://localhost:8080/"
        },
        "outputId": "c7ee3d58-1074-401d-e0ba-fd39c72caa82"
      },
      "source": [
        "#Example 2\n",
        "# Declaring our variables\n",
        "name = \"James\"    \n",
        "age  = 24 \n",
        "\n",
        "if name == \"James\" and age == 24:\n",
        "  print(\"Your name is James, and you are also 24 years old.\")"
      ],
      "execution_count": null,
      "outputs": [
        {
          "output_type": "stream",
          "text": [
            "Your name is James, and you are also 24 years old.\n"
          ],
          "name": "stdout"
        }
      ]
    },
    {
      "cell_type": "code",
      "metadata": {
        "id": "vQCbl_dC78z1"
      },
      "source": [
        "#Exercise\n",
        "\n",
        "# Given the 3 sides of a triangle x, y and z, let's find out \n",
        "# whether the triangle is equilateral, isosceles or scalene.\n",
        "# Note: An equilateral triagnle has all sides are equal, \n",
        "# isosceles means that two of the sides are equal but not the third one, \n",
        "# scalene means all 3 are different. The user will be prompted \n",
        "# to provide the values of x, y and z"
      ],
      "execution_count": null,
      "outputs": []
    },
    {
      "cell_type": "markdown",
      "metadata": {
        "id": "jUXe7sL-8ePR"
      },
      "source": [
        "### f.OR"
      ]
    },
    {
      "cell_type": "code",
      "metadata": {
        "id": "5F1X093V8iJ9"
      },
      "source": [
        "# Declaring our variables\n",
        "x = int(input(\"Enter value of x = \"))\n",
        "y = int(input(\"Enter value of y = \"))\n",
        " \n",
        "if (x >= 15) or (y <= 25):\n",
        "  print(\"x >= 15 or y <= 25 so if statement is True\")\n",
        "else:\n",
        "  print(\"Value of x < 15 and y > 25 so if statement is False!\")"
      ],
      "execution_count": null,
      "outputs": []
    },
    {
      "cell_type": "code",
      "metadata": {
        "id": "3iRrxYvc8m5G",
        "colab": {
          "base_uri": "https://localhost:8080/"
        },
        "outputId": "f82679e7-33e2-4c14-92e8-d484d1710371"
      },
      "source": [
        "# Declaring our variables\n",
        "w = 10\n",
        "x = 15\n",
        "y = 20\n",
        "z = 25\n",
        " \n",
        "if (w == 10 or x == 15) and (y == 16 or z == 25):\n",
        "  print(\"If statement is True\")\n",
        "else:\n",
        "  print(\"False\")"
      ],
      "execution_count": null,
      "outputs": [
        {
          "output_type": "stream",
          "text": [
            "False\n"
          ],
          "name": "stdout"
        }
      ]
    },
    {
      "cell_type": "markdown",
      "metadata": {
        "id": "T6gTmSC8oMpx"
      },
      "source": [
        "###g. List"
      ]
    },
    {
      "cell_type": "markdown",
      "metadata": {
        "id": "cWuDOGi4pKEF"
      },
      "source": [
        "A list is an **ordered** and **mutable** Python container, being one of the most common data structures in Python. To create a list, the elements are placed inside square brackets ([]), separated by commas."
      ]
    },
    {
      "cell_type": "markdown",
      "metadata": {
        "id": "XloBwvSO9LKn"
      },
      "source": [
        "**Vocubulary in Lists**\n",
        "\n",
        "-Array Length: the total number of items in the collection\n",
        "\n",
        "-Sort: how you could order items in the collection (for example, date, price, name, color, and so on)\n",
        "\n",
        "-Index: a unique address or location in the collection (for example, page number in an album, shelf on a bookcase, and so on)\n",
        "\n",
        "-Type: the type of item being stored in the collection"
      ]
    },
    {
      "cell_type": "code",
      "metadata": {
        "colab": {
          "base_uri": "https://localhost:8080/"
        },
        "id": "OiBtfgdZoVSF",
        "outputId": "87fd9e04-77e4-4c21-a598-b25fb76e75ad"
      },
      "source": [
        "start = [\"Hello\",\" World\",\"in\",\"python\", 3.0 ,9, True]\n",
        "print(start)"
      ],
      "execution_count": null,
      "outputs": [
        {
          "output_type": "stream",
          "text": [
            "['Hello', ' World', 'in', 'python', 3.0, 9, True]\n"
          ],
          "name": "stdout"
        }
      ]
    },
    {
      "cell_type": "code",
      "metadata": {
        "colab": {
          "base_uri": "https://localhost:8080/"
        },
        "id": "C2OLYV5z9H0G",
        "outputId": "977fd3f0-bf93-489a-c1ff-eee8db5e7cc6"
      },
      "source": [
        "print(start[0])"
      ],
      "execution_count": null,
      "outputs": [
        {
          "output_type": "stream",
          "text": [
            "Hello\n"
          ],
          "name": "stdout"
        }
      ]
    },
    {
      "cell_type": "code",
      "metadata": {
        "colab": {
          "base_uri": "https://localhost:8080/"
        },
        "id": "qIGjUUyi9av-",
        "outputId": "6eff7fb7-b8a7-4b27-df1c-261551294724"
      },
      "source": [
        "print(start[1])"
      ],
      "execution_count": null,
      "outputs": [
        {
          "output_type": "stream",
          "text": [
            " World\n"
          ],
          "name": "stdout"
        }
      ]
    },
    {
      "cell_type": "code",
      "metadata": {
        "colab": {
          "base_uri": "https://localhost:8080/"
        },
        "id": "t2vJdRpr9fDF",
        "outputId": "1d5aa725-55c9-4457-c7b8-40df8526cdfa"
      },
      "source": [
        "print(start[-1])"
      ],
      "execution_count": null,
      "outputs": [
        {
          "output_type": "stream",
          "text": [
            "True\n"
          ],
          "name": "stdout"
        }
      ]
    },
    {
      "cell_type": "code",
      "metadata": {
        "colab": {
          "base_uri": "https://localhost:8080/"
        },
        "id": "fuh0x3Z09jGT",
        "outputId": "d28eea5e-c3ad-4712-c242-58fe9ac9fc3b"
      },
      "source": [
        "print(start[0:4])"
      ],
      "execution_count": null,
      "outputs": [
        {
          "output_type": "stream",
          "text": [
            "['Hello', ' World', 'in', 'python']\n"
          ],
          "name": "stdout"
        }
      ]
    },
    {
      "cell_type": "code",
      "metadata": {
        "colab": {
          "base_uri": "https://localhost:8080/"
        },
        "id": "ZT_o2sJqcPza",
        "outputId": "5cabf736-f801-438d-898b-e2160e52b6a0"
      },
      "source": [
        "#You can also include a third number in the indexing, to count how often you should read from the list:\n",
        "\n",
        "a = [5, 10, 15, 20, 25, 30, 35, 40, 45, 50, 55]\n",
        "print(a[1:5:2])\n",
        "print(a[1:8:2])\n",
        "print(a[8:1:-2])\n",
        "print(a[10:0:-3])"
      ],
      "execution_count": null,
      "outputs": [
        {
          "output_type": "stream",
          "text": [
            "[10, 20]\n",
            "[10, 20, 30, 40]\n",
            "[45, 35, 25, 15]\n",
            "[55, 40, 25, 10]\n"
          ],
          "name": "stdout"
        }
      ]
    },
    {
      "cell_type": "code",
      "metadata": {
        "colab": {
          "base_uri": "https://localhost:8080/"
        },
        "id": "C67mf6g39pWl",
        "outputId": "f4eb3a8d-269b-4768-c85e-cc0f8afc1621"
      },
      "source": [
        "print(start[0:1:-1])"
      ],
      "execution_count": null,
      "outputs": [
        {
          "output_type": "stream",
          "text": [
            "[]\n"
          ],
          "name": "stdout"
        }
      ]
    },
    {
      "cell_type": "markdown",
      "metadata": {
        "id": "F6g7gcPl9xUr"
      },
      "source": [
        "***Empty list***"
      ]
    },
    {
      "cell_type": "code",
      "metadata": {
        "colab": {
          "base_uri": "https://localhost:8080/"
        },
        "id": "bbEez-0o92xw",
        "outputId": "522e96b1-0e3d-4662-f40e-1ca775f0c651"
      },
      "source": [
        "empty_list = []\n",
        "print(empty_list)"
      ],
      "execution_count": null,
      "outputs": [
        {
          "output_type": "stream",
          "text": [
            "[]\n"
          ],
          "name": "stdout"
        }
      ]
    },
    {
      "cell_type": "markdown",
      "metadata": {
        "id": "5peT15_T-x-7"
      },
      "source": [
        "***Lists in lists***"
      ]
    },
    {
      "cell_type": "code",
      "metadata": {
        "colab": {
          "base_uri": "https://localhost:8080/"
        },
        "id": "wgwE_Mkm-5s4",
        "outputId": "44cc9b2c-4c33-40ca-c9bc-7040e66cc622"
      },
      "source": [
        "number = [2,4,5,6,[True, False],7,[5,7,8,5,7]]\n",
        "print(number)"
      ],
      "execution_count": null,
      "outputs": [
        {
          "output_type": "stream",
          "text": [
            "[2, 4, 5, 6, [True, False], 7, [5, 7, 8, 5, 7]]\n"
          ],
          "name": "stdout"
        }
      ]
    },
    {
      "cell_type": "markdown",
      "metadata": {
        "id": "sldR4n-Y_a4B"
      },
      "source": [
        "***List Functions***\n"
      ]
    },
    {
      "cell_type": "markdown",
      "metadata": {
        "id": "Mowrh6Ry_gAZ"
      },
      "source": [
        "**Append**- Adding an item to the end of an existing list"
      ]
    },
    {
      "cell_type": "code",
      "metadata": {
        "colab": {
          "base_uri": "https://localhost:8080/"
        },
        "id": "N2sknR_E_ep-",
        "outputId": "dbe93181-8775-4b50-af4c-0d31514c06e1"
      },
      "source": [
        "nums =[1,3,7,8,9,8]\n",
        "nums.append(10)\n",
        "print(nums)"
      ],
      "execution_count": null,
      "outputs": [
        {
          "output_type": "stream",
          "text": [
            "[1, 3, 7, 8, 9, 8, 10]\n"
          ],
          "name": "stdout"
        }
      ]
    },
    {
      "cell_type": "code",
      "metadata": {
        "id": "fjutakwo91Xx",
        "colab": {
          "base_uri": "https://localhost:8080/"
        },
        "outputId": "0138f389-8cd8-4ad9-f81c-388ed0501a5a"
      },
      "source": [
        "#Add the pineaples and passion fruit to the list fruits.\n",
        "fruits = [\"bananas\", \"grapes\", \"mangoes\"]\n",
        "fruits.append(\"passion\")\n",
        "fruits.append(\"pineapples\")\n",
        "#fruits.append([\"pineapples\",\"passion\"])\n",
        "print(fruits)"
      ],
      "execution_count": null,
      "outputs": [
        {
          "output_type": "stream",
          "text": [
            "['bananas', 'grapes', 'mangoes', 'passion', 'pineapples']\n"
          ],
          "name": "stdout"
        }
      ]
    },
    {
      "cell_type": "code",
      "metadata": {
        "id": "06ZelR1EgAAn"
      },
      "source": [
        "a = [1,2,3,4,3,7,7]\n",
        "b= [4,5,6,1,5,5]\n",
        "c= a.append(b)\n",
        "#print(c)"
      ],
      "execution_count": null,
      "outputs": []
    },
    {
      "cell_type": "code",
      "metadata": {
        "colab": {
          "base_uri": "https://localhost:8080/"
        },
        "id": "w89W2YmJhMbL",
        "outputId": "604c1ab3-2a48-4a84-b12f-d58613df268f"
      },
      "source": [
        "mergedlist = []\n",
        "mergedlist.extend(a)\n",
        "mergedlist.extend(b)\n",
        "#Removing duplicates.\n",
        "mergedlist =list(set(mergedlist))\n",
        "print(mergedlist)"
      ],
      "execution_count": null,
      "outputs": [
        {
          "output_type": "stream",
          "text": [
            "[1, 2, 3, 4, 5, 6, 7]\n"
          ],
          "name": "stdout"
        }
      ]
    },
    {
      "cell_type": "code",
      "metadata": {
        "colab": {
          "base_uri": "https://localhost:8080/"
        },
        "id": "qmHMP2mbiAp5",
        "outputId": "a01c6c6f-5205-4d38-9e8b-88c0925667d5"
      },
      "source": [
        "#Returning odd numbers in a list.\n",
        "mergedlist1 =[d for d in mergedlist if d%2 !=0]\n",
        "mergedlist1 = [i for i in mergedlist1 if mergedlist1.count(i)==1]\n",
        "\n",
        "print(mergedlist1)"
      ],
      "execution_count": null,
      "outputs": [
        {
          "output_type": "stream",
          "text": [
            "[1, 3, 5, 7]\n"
          ],
          "name": "stdout"
        }
      ]
    },
    {
      "cell_type": "code",
      "metadata": {
        "colab": {
          "base_uri": "https://localhost:8080/"
        },
        "id": "WqVaQ3IolGZy",
        "outputId": "37887f33-daef-4a5f-f524-24da3a09e6cc"
      },
      "source": [
        "#Returning odd numbers in a list.\n",
        "odd = []\n",
        "for i in mergedlist:\n",
        "  if i%2 !=0:\n",
        "    odd.append(i)\n",
        "print(odd)\n"
      ],
      "execution_count": null,
      "outputs": [
        {
          "output_type": "stream",
          "text": [
            "[1, 3, 5, 7]\n"
          ],
          "name": "stdout"
        }
      ]
    },
    {
      "cell_type": "markdown",
      "metadata": {
        "id": "4czKEvWs_02o"
      },
      "source": [
        "***Removing items***"
      ]
    },
    {
      "cell_type": "code",
      "metadata": {
        "id": "OcBemCrR_5rd",
        "colab": {
          "base_uri": "https://localhost:8080/"
        },
        "outputId": "38c4eb88-7e57-4e30-9d16-176df5ccd12e"
      },
      "source": [
        "# Example 1\n",
        "# Let's remove the first item from the fruits list as shown;\n",
        "#\n",
        "fruits.remove(\"bananas\")\n",
        "print(fruits)"
      ],
      "execution_count": null,
      "outputs": [
        {
          "output_type": "stream",
          "text": [
            "['grapes', 'mangoes', ['pineapples', 'passion']]\n"
          ],
          "name": "stdout"
        }
      ]
    },
    {
      "cell_type": "code",
      "metadata": {
        "colab": {
          "base_uri": "https://localhost:8080/"
        },
        "id": "-lnqronGs1EG",
        "outputId": "723bf31c-7c01-465a-9719-01fdf123f788"
      },
      "source": [
        "print(fruits)"
      ],
      "execution_count": null,
      "outputs": [
        {
          "output_type": "stream",
          "text": [
            "['bananas', 'grapes', 'mangoes', 'passion', 'pineapples']\n"
          ],
          "name": "stdout"
        }
      ]
    },
    {
      "cell_type": "code",
      "metadata": {
        "id": "sCiv4Hrc_7NS",
        "colab": {
          "base_uri": "https://localhost:8080/"
        },
        "outputId": "5f4cd201-e334-4374-ca90-54a62ce1667e"
      },
      "source": [
        "#YOu can also use del\n",
        "# Then remove the third item from the kenyan cities list as shown;\n",
        "#\n",
        "del fruits[-2]\n",
        "print(fruits)"
      ],
      "execution_count": null,
      "outputs": [
        {
          "output_type": "stream",
          "text": [
            "['bananas', 'grapes', 'pineapples']\n"
          ],
          "name": "stdout"
        }
      ]
    },
    {
      "cell_type": "markdown",
      "metadata": {
        "id": "5wsJIDJ8AaAx"
      },
      "source": [
        "***Length***"
      ]
    },
    {
      "cell_type": "code",
      "metadata": {
        "colab": {
          "base_uri": "https://localhost:8080/"
        },
        "id": "FPQo8DgvAdLe",
        "outputId": "19c7094a-8d4e-4e07-b069-a071ca5f47e1"
      },
      "source": [
        "nums = [1,6,8,8,2,8,8,3,8,8]\n",
        "print(len(nums))"
      ],
      "execution_count": null,
      "outputs": [
        {
          "output_type": "stream",
          "text": [
            "10\n"
          ],
          "name": "stdout"
        }
      ]
    },
    {
      "cell_type": "markdown",
      "metadata": {
        "id": "q2ZBv1cvAv7f"
      },
      "source": [
        "***Insert***"
      ]
    },
    {
      "cell_type": "code",
      "metadata": {
        "colab": {
          "base_uri": "https://localhost:8080/"
        },
        "id": "SxBdB4b4AvUU",
        "outputId": "2b2e69b9-643d-4538-d1de-1ec41572073d"
      },
      "source": [
        "list_a = ['Python','fun']\n",
        "index = 1\n",
        "list_a.insert(index, \"is\")\n",
        "print(list_a)"
      ],
      "execution_count": null,
      "outputs": [
        {
          "output_type": "stream",
          "text": [
            "['Python', 'is', 'fun']\n"
          ],
          "name": "stdout"
        }
      ]
    },
    {
      "cell_type": "code",
      "metadata": {
        "colab": {
          "base_uri": "https://localhost:8080/"
        },
        "id": "F8asUpDbthdg",
        "outputId": "347e5d93-8e8a-47c4-8f0d-a94df0fc0db5"
      },
      "source": [
        "list_a = ['Python','fun']\n",
        "#index = 1\n",
        "list_a.insert(2, \"!!\")\n",
        "print(list_a)"
      ],
      "execution_count": null,
      "outputs": [
        {
          "output_type": "stream",
          "text": [
            "['Python', 'fun', '!!']\n"
          ],
          "name": "stdout"
        }
      ]
    },
    {
      "cell_type": "markdown",
      "metadata": {
        "id": "co-kbaVlIpmI"
      },
      "source": [
        "To check more on python functions click [here](https://www.w3schools.com/python/python_ref_list.asp)"
      ]
    },
    {
      "cell_type": "markdown",
      "metadata": {
        "id": "Wj-hUtm6A_Yl"
      },
      "source": [
        "###**h. Dictionaries**"
      ]
    },
    {
      "cell_type": "markdown",
      "metadata": {
        "id": "kLGr9xqQBIp7"
      },
      "source": [
        "A dictionary is a collection of key-value pairs, which are unordered, changeable and indexed. Curly brackets are used when writing a dictionary."
      ]
    },
    {
      "cell_type": "code",
      "metadata": {
        "colab": {
          "base_uri": "https://localhost:8080/"
        },
        "id": "40fvgIiCBEPJ",
        "outputId": "6f2fb495-8759-42a4-f6c0-10ae4e1c2070"
      },
      "source": [
        "#Creating dictionaries\n",
        "# Let's create another dictionary car with keys; brand, model and year\n",
        "# \n",
        "car =\t{\n",
        "  'brand': 'Mercedez Benz',\n",
        "  'model': 'E-class',\n",
        "  'year': 2012\n",
        "}\n",
        "\n",
        "# Then display it to see what the dictionary contains\n",
        "print(car)"
      ],
      "execution_count": null,
      "outputs": [
        {
          "output_type": "stream",
          "text": [
            "{'brand': 'Mercedez Benz', 'model': 'E-class', 'year': 2012}\n"
          ],
          "name": "stdout"
        }
      ]
    },
    {
      "cell_type": "code",
      "metadata": {
        "colab": {
          "base_uri": "https://localhost:8080/"
        },
        "id": "6_mTgEfHBoFk",
        "outputId": "61e2dda9-d478-4f9a-c492-4fc4be81d30c"
      },
      "source": [
        "# Let's create another dictionary\n",
        "#\n",
        "our_class = {\n",
        "    'Name': '4 Yellow', \n",
        "    'Students': 50, \n",
        "    'Wing': 'East'\n",
        "}\n",
        "\n",
        "# printing out our_class\n",
        "print(our_class)"
      ],
      "execution_count": null,
      "outputs": [
        {
          "output_type": "stream",
          "text": [
            "{'Name': '4 Yellow', 'Students': 50, 'Wing': 'East'}\n"
          ],
          "name": "stdout"
        }
      ]
    },
    {
      "cell_type": "code",
      "metadata": {
        "id": "B6pXIx4WCC52",
        "colab": {
          "base_uri": "https://localhost:8080/"
        },
        "outputId": "805529dd-8517-43eb-f9ae-2160abe73201"
      },
      "source": [
        "#Exercise\n",
        "\n",
        "# Create a dictionary family with keys i.e. father,\n",
        "# mother, son and daughter. You can add values of your family\n",
        "# to the key values\n",
        "\n",
        "family1 = {'father':'John',\n",
        "          'mother':'Mary',\n",
        "          'son1':'Joseph',\n",
        "          'son2':'Charles',\n",
        "          'Daughter':'Jane'}\n",
        "print(family1)"
      ],
      "execution_count": null,
      "outputs": [
        {
          "output_type": "stream",
          "text": [
            "{'father': 'John', 'mother': 'Mary', 'son1': 'Joseph', 'son2': 'Charles', 'Daughter': 'Jane'}\n"
          ],
          "name": "stdout"
        }
      ]
    },
    {
      "cell_type": "code",
      "metadata": {
        "colab": {
          "base_uri": "https://localhost:8080/"
        },
        "id": "hpWD0s3bwN9C",
        "outputId": "cf9bd662-bab8-491a-f749-898177d9fef3"
      },
      "source": [
        "family2 = {'father':'James',\n",
        "          'mother':'Maria',\n",
        "          'son':'Joe',\n",
        "          'Daughter':'Janet'}\n",
        "print(family2)"
      ],
      "execution_count": null,
      "outputs": [
        {
          "output_type": "stream",
          "text": [
            "{'father': 'James', 'mother': 'Maria', 'son': 'Joe', 'Daughter': 'Janet'}\n"
          ],
          "name": "stdout"
        }
      ]
    },
    {
      "cell_type": "code",
      "metadata": {
        "colab": {
          "base_uri": "https://localhost:8080/"
        },
        "id": "0lAEoq36wwcl",
        "outputId": "5d87ea79-6a3e-4380-d113-eac07eab147d"
      },
      "source": [
        "#Joining dictionaries.\n",
        "def merge_two_families(x,y):\n",
        "  merged = family1.copy()\n",
        "  merged.update(family2)\n",
        "  return merged\n",
        "merged = merge_two_families(family1,family2)\n",
        "print(merged)"
      ],
      "execution_count": null,
      "outputs": [
        {
          "output_type": "stream",
          "text": [
            "{'father': 'James', 'mother': 'Maria', 'son1': 'Joseph', 'son2': 'Charles', 'Daughter': 'Janet', 'son': 'Joe'}\n"
          ],
          "name": "stdout"
        }
      ]
    },
    {
      "cell_type": "code",
      "metadata": {
        "colab": {
          "base_uri": "https://localhost:8080/"
        },
        "id": "bKusEUscCXVI",
        "outputId": "be39a1d4-60f2-421a-a135-0f4aed44d9fb"
      },
      "source": [
        "#To update items in a dictionary we use the following eg.\n",
        "#\n",
        "car[\"color\"] = \"light gray\"\n",
        "\n",
        "# and print out our dictionary\n",
        "print(car)"
      ],
      "execution_count": null,
      "outputs": [
        {
          "output_type": "stream",
          "text": [
            "{'brand': 'Mercedez Benz', 'model': 'E-class', 'year': 2012, 'color': 'light gray'}\n"
          ],
          "name": "stdout"
        }
      ]
    },
    {
      "cell_type": "markdown",
      "metadata": {
        "id": "-sEFYCqpDwVa"
      },
      "source": [
        "To check if an element is in a dictionary"
      ]
    },
    {
      "cell_type": "code",
      "metadata": {
        "colab": {
          "base_uri": "https://localhost:8080/"
        },
        "id": "-xSe3wJYD0g6",
        "outputId": "66b38f7b-2d23-4fe6-bbeb-4c15a664bfb9"
      },
      "source": [
        "# Let's check if the keyword year exists in car dictionary\n",
        "#\n",
        "if \"year\" in car:\n",
        "  print(\"Yes, the keyword exists in the dictionary\")\n",
        "else:\n",
        "  print('No, the keyword does not exist in the dictionary')"
      ],
      "execution_count": null,
      "outputs": [
        {
          "output_type": "stream",
          "text": [
            "Yes, the keyword exists in the dictionary\n"
          ],
          "name": "stdout"
        }
      ]
    },
    {
      "cell_type": "markdown",
      "metadata": {
        "id": "_vf8CSiH1X-Q"
      },
      "source": [
        "**Try to check if a Key and value exists in a dictionary, if not add it to the dictionary.**"
      ]
    },
    {
      "cell_type": "code",
      "metadata": {
        "id": "zKqGLVGu1Xgm"
      },
      "source": [
        ""
      ],
      "execution_count": null,
      "outputs": []
    },
    {
      "cell_type": "code",
      "metadata": {
        "id": "tWNVBGclEB2p"
      },
      "source": [
        "# We can use keyword `len()` to determine how many items (key - value pairs) there are in the dictionary."
      ],
      "execution_count": null,
      "outputs": []
    },
    {
      "cell_type": "code",
      "metadata": {
        "id": "S9T49qbsENVB"
      },
      "source": [
        "# Finding out how many items there are in the family dictionary you created in the exercise above."
      ],
      "execution_count": null,
      "outputs": []
    },
    {
      "cell_type": "markdown",
      "metadata": {
        "id": "NSXHB09CJBlD"
      },
      "source": [
        "## 6.Loops"
      ]
    },
    {
      "cell_type": "markdown",
      "metadata": {
        "id": "X7Sm2-reLxqD"
      },
      "source": [
        "### a.For loops"
      ]
    },
    {
      "cell_type": "markdown",
      "metadata": {
        "id": "FeWMtK3dGEIa"
      },
      "source": [
        "For loops are used to iterate over a sequence (i.e. list, dictionary, string etc.then perform some action."
      ]
    },
    {
      "cell_type": "code",
      "metadata": {
        "id": "OVwrAYFzI7LC",
        "colab": {
          "base_uri": "https://localhost:8080/"
        },
        "outputId": "1348cc05-b153-449f-ebba-dddd341ce480"
      },
      "source": [
        "\n",
        "fruits = [\"bananas\", \"grapes\", \"mangoes\"]\n",
        "\n",
        "print(fruits)"
      ],
      "execution_count": null,
      "outputs": [
        {
          "output_type": "stream",
          "text": [
            "['bananas', 'grapes', 'mangoes']\n"
          ],
          "name": "stdout"
        }
      ]
    },
    {
      "cell_type": "code",
      "metadata": {
        "colab": {
          "base_uri": "https://localhost:8080/"
        },
        "id": "XObcK5NeGTXs",
        "outputId": "2a3bf3fa-76f5-4868-9ddc-3178c6035266"
      },
      "source": [
        "#To loop through.\n",
        "# then using a for loop to iterate through the list\n",
        "for x in fruits:\n",
        " print(x)"
      ],
      "execution_count": null,
      "outputs": [
        {
          "output_type": "stream",
          "text": [
            "bananas\n",
            "grapes\n",
            "mangoes\n",
            "Passion fruits\n",
            "oranges\n"
          ],
          "name": "stdout"
        }
      ]
    },
    {
      "cell_type": "code",
      "metadata": {
        "id": "pnZZ9xVTHwr5"
      },
      "source": [
        "# Creating our dictionary\n",
        "fruit_prices = {\n",
        "    'bananas': 50, \n",
        "    'Oranges': 30, \n",
        "    'Pineapples': 40,\n",
        "    'Passion': 25\n",
        "}"
      ],
      "execution_count": null,
      "outputs": []
    },
    {
      "cell_type": "code",
      "metadata": {
        "colab": {
          "base_uri": "https://localhost:8080/"
        },
        "id": "cABK2qUNIlZl",
        "outputId": "3de878e4-a096-4c54-bd56-4ebb495d6c6a"
      },
      "source": [
        "# Looping through keys only\n",
        "for x in fruit_prices:\n",
        "  print(x)"
      ],
      "execution_count": null,
      "outputs": [
        {
          "output_type": "stream",
          "text": [
            "bananas\n",
            "Oranges\n",
            "Pineapples\n",
            "Passion\n"
          ],
          "name": "stdout"
        }
      ]
    },
    {
      "cell_type": "code",
      "metadata": {
        "colab": {
          "base_uri": "https://localhost:8080/"
        },
        "id": "r9Zyltu1JasC",
        "outputId": "6249a358-e09e-4d97-c21b-c855147c7957"
      },
      "source": [
        "for x,y in fruit_prices.items():\n",
        "  print(x,\":\", y)"
      ],
      "execution_count": null,
      "outputs": [
        {
          "output_type": "stream",
          "text": [
            "bananas : 50\n",
            "Oranges : 30\n",
            "Pineapples : 40\n",
            "Passion : 25\n"
          ],
          "name": "stdout"
        }
      ]
    },
    {
      "cell_type": "markdown",
      "metadata": {
        "id": "PxffdnY4KXRo"
      },
      "source": [
        "Looping through a string"
      ]
    },
    {
      "cell_type": "code",
      "metadata": {
        "colab": {
          "base_uri": "https://localhost:8080/"
        },
        "id": "HI9tyV93Irgq",
        "outputId": "688d464c-c22f-4e3f-8afe-65651c8ae831"
      },
      "source": [
        "for y in \"Dimension_data\":\n",
        "  print(y)"
      ],
      "execution_count": null,
      "outputs": [
        {
          "output_type": "stream",
          "text": [
            "D\n",
            "i\n",
            "m\n",
            "e\n",
            "n\n",
            "s\n",
            "i\n",
            "o\n",
            "n\n",
            "_\n",
            "d\n",
            "a\n",
            "t\n",
            "a\n"
          ],
          "name": "stdout"
        }
      ]
    },
    {
      "cell_type": "markdown",
      "metadata": {
        "id": "FK_ywiXBK2ia"
      },
      "source": [
        "### b.break"
      ]
    },
    {
      "cell_type": "code",
      "metadata": {
        "colab": {
          "base_uri": "https://localhost:8080/"
        },
        "id": "Bjmx0jcRK4mm",
        "outputId": "7013bcf7-667c-491c-aa20-cbaced6ad6ca"
      },
      "source": [
        "fruits = [\"bananas\", \"grapes\", \"mangoes\",\"Passion fruits\",\"oranges\"]\n",
        "\n",
        "for x in fruits: \n",
        "  if x == \"mangoes\":\n",
        "    break\n",
        "  print(x)"
      ],
      "execution_count": null,
      "outputs": [
        {
          "output_type": "stream",
          "text": [
            "bananas\n",
            "grapes\n"
          ],
          "name": "stdout"
        }
      ]
    },
    {
      "cell_type": "code",
      "metadata": {
        "colab": {
          "base_uri": "https://localhost:8080/"
        },
        "id": "T-opydHyLE8D",
        "outputId": "8a7f1a8d-e6af-4563-85de-b696212f9891"
      },
      "source": [
        "for val in \"Derrick Kuria\":\n",
        "  print(val)\n",
        "  if val == \"r\":\n",
        "        break\n",
        "print(\"The end\")"
      ],
      "execution_count": null,
      "outputs": [
        {
          "output_type": "stream",
          "text": [
            "D\n",
            "e\n",
            "r\n",
            "The end\n"
          ],
          "name": "stdout"
        }
      ]
    },
    {
      "cell_type": "code",
      "metadata": {
        "colab": {
          "base_uri": "https://localhost:8080/"
        },
        "id": "_xf_ZUYTLc2c",
        "outputId": "fdfb6aeb-6c27-476c-fc1d-367b71db4fe2"
      },
      "source": [
        "for num in [21, 29, 98, 20, 100, 13, 29]: \n",
        "   print(num)\n",
        "   if(num == 98):\n",
        "\t   print(\"The number 98 is found\") \n",
        "\t   break"
      ],
      "execution_count": null,
      "outputs": [
        {
          "output_type": "stream",
          "text": [
            "21\n",
            "29\n",
            "98\n",
            "The number 98 is found\n"
          ],
          "name": "stdout"
        }
      ]
    },
    {
      "cell_type": "markdown",
      "metadata": {
        "id": "PJj7wtvjL8Q5"
      },
      "source": [
        "### c.Continue"
      ]
    },
    {
      "cell_type": "markdown",
      "metadata": {
        "id": "dm5qRX7DMKD-"
      },
      "source": [
        "Using the continue statement we can stop the current iteration of the loop, \n",
        "and continue with the next section"
      ]
    },
    {
      "cell_type": "code",
      "metadata": {
        "colab": {
          "base_uri": "https://localhost:8080/"
        },
        "id": "mOnEmwiGL_wD",
        "outputId": "0ac6ec7e-b28f-4b82-885e-2c34b0ee4297"
      },
      "source": [
        "#Example 1\n",
        "furniture = [\"chairs\", \"tables\", \"stools\",\"sofa\",\"cabinet\"]\n",
        "\n",
        "for x in furniture:\n",
        "  if x == \"stools\":\n",
        "    continue \n",
        "  print(x)"
      ],
      "execution_count": null,
      "outputs": [
        {
          "output_type": "stream",
          "text": [
            "chairs\n",
            "tables\n",
            "sofa\n",
            "cabinet\n"
          ],
          "name": "stdout"
        }
      ]
    },
    {
      "cell_type": "code",
      "metadata": {
        "id": "gu815aXYNBr4",
        "colab": {
          "base_uri": "https://localhost:8080/"
        },
        "outputId": "727ad8b6-cb25-4488-f64b-d431f6e00205"
      },
      "source": [
        "#Example 2\n",
        "for val in \"Derrick Kuria\":\n",
        "    if val == \"r\" or val =='c':\n",
        "        continue\n",
        "    print(val)\n",
        "print(\"The end\")"
      ],
      "execution_count": null,
      "outputs": [
        {
          "output_type": "stream",
          "text": [
            "D\n",
            "e\n",
            "i\n",
            "k\n",
            " \n",
            "K\n",
            "u\n",
            "i\n",
            "a\n",
            "The end\n"
          ],
          "name": "stdout"
        }
      ]
    },
    {
      "cell_type": "code",
      "metadata": {
        "colab": {
          "base_uri": "https://localhost:8080/"
        },
        "id": "bdoIFfezNWM7",
        "outputId": "e2e4cb48-88a6-4968-e0a7-adc7a03bf8ce"
      },
      "source": [
        "##Example 3\n",
        "mobile_phone = [\"samsung\", \"doogee\", \"iphone\", \"wiko\", \"LG\", \"Panasonic\", \"Sony\", \"Xiaomi\",\"tecno\"]\n",
        "\n",
        "for x in mobile_phone:  \n",
        "    if x == 'samsung' or x == 'iphone': \n",
        "         continue\n",
        "    print ('Checked Phone :', x) "
      ],
      "execution_count": null,
      "outputs": [
        {
          "output_type": "stream",
          "text": [
            "Checked Phone : doogee\n",
            "Checked Phone : wiko\n",
            "Checked Phone : LG\n",
            "Checked Phone : Panasonic\n",
            "Checked Phone : Sony\n",
            "Checked Phone : Xiaomi\n",
            "Checked Phone : tecno\n"
          ],
          "name": "stdout"
        }
      ]
    },
    {
      "cell_type": "markdown",
      "metadata": {
        "id": "SqaFhWMjNnSw"
      },
      "source": [
        "Exercise"
      ]
    },
    {
      "cell_type": "code",
      "metadata": {
        "colab": {
          "base_uri": "https://localhost:8080/"
        },
        "id": "GeaYYGb6No-U",
        "outputId": "40b784d2-432e-4bfe-87b6-3c2df3d61bc3"
      },
      "source": [
        "\n",
        "# Make changes to the code below to omit the month of July and August\n",
        "# while displaying the no. of months\n",
        "#\n",
        "\n",
        "months = [\"January \",\"February\",\"March\", \"April\", \"May\", \"June\", \"July\", \"August\", \"September\", \"October\", \"November\", \"December\"]\n",
        "\n",
        "for m in months:\n",
        "\t\tprint(m)"
      ],
      "execution_count": null,
      "outputs": [
        {
          "output_type": "stream",
          "text": [
            "January \n",
            "February\n",
            "March\n",
            "April\n",
            "May\n",
            "June\n",
            "July\n",
            "August\n",
            "September\n",
            "October\n",
            "November\n",
            "December\n"
          ],
          "name": "stdout"
        }
      ]
    },
    {
      "cell_type": "code",
      "metadata": {
        "colab": {
          "base_uri": "https://localhost:8080/"
        },
        "id": "gDpKmw2hN1eB",
        "outputId": "beba56dd-104c-43d8-82a0-1a5072bc41d0"
      },
      "source": [
        "for i in range(3):\n",
        "    password = input('Enter your password: ')\n",
        "    if password == 'secret':\n",
        "        print('You have guessed the password!')\n",
        "        break\n",
        "else:\n",
        "    print('You have made 3 incorrect password attempts')"
      ],
      "execution_count": null,
      "outputs": [
        {
          "output_type": "stream",
          "text": [
            "Enter your password: secret\n",
            "You have guessed the password!\n"
          ],
          "name": "stdout"
        }
      ]
    },
    {
      "cell_type": "markdown",
      "metadata": {
        "id": "YFoTLJZfOYEK"
      },
      "source": [
        "### d.Nested For Loops"
      ]
    },
    {
      "cell_type": "markdown",
      "metadata": {
        "id": "OqmVvERiOneT"
      },
      "source": [
        "use  of a loop inside another loop"
      ]
    },
    {
      "cell_type": "code",
      "metadata": {
        "id": "CQi6bDAXOXSv"
      },
      "source": [
        "adj = [\"red\", \"big\", \"tasty\"]\n",
        "fruits = [\"apple\", \"banana\", \"cherry\"]\n",
        "\n",
        "for x in adj:\n",
        "  for y in fruits:\n",
        "    print(x, y)"
      ],
      "execution_count": null,
      "outputs": []
    },
    {
      "cell_type": "code",
      "metadata": {
        "colab": {
          "base_uri": "https://localhost:8080/"
        },
        "id": "dRISKRliPCO_",
        "outputId": "c486ba1a-b215-4e36-bdc0-decb4ae3cffa"
      },
      "source": [
        "shopping = [['Apples', 40], ['Bananas', 15], ['Tomatoes', 20]]\n",
        "  \n",
        "for fruits in shopping: \n",
        "  for value in fruits: \n",
        "    print(value)"
      ],
      "execution_count": null,
      "outputs": [
        {
          "output_type": "stream",
          "text": [
            "Apples\n",
            "40\n",
            "Bananas\n",
            "15\n",
            "Tomatoes\n",
            "20\n"
          ],
          "name": "stdout"
        }
      ]
    },
    {
      "cell_type": "markdown",
      "metadata": {
        "id": "XRRYt_MSTQ06"
      },
      "source": [
        "##7.Functions"
      ]
    },
    {
      "cell_type": "markdown",
      "metadata": {
        "id": "8ENbkH4cTdoH"
      },
      "source": [
        "A function is a block of code which only runs when it is called.\n",
        "\n",
        "You can pass data, known as parameters, into a function."
      ]
    },
    {
      "cell_type": "markdown",
      "metadata": {
        "id": "dED0npZGTryk"
      },
      "source": [
        "Upon defining the function, we can then call it as shown below. Calling a function means executing a function and printing its value.\n",
        "\n",
        "\n",
        "Please take note of the parenthesis at the end, if you omit the parenthesis then the function will not display the output."
      ]
    },
    {
      "cell_type": "code",
      "metadata": {
        "colab": {
          "base_uri": "https://localhost:8080/"
        },
        "id": "Udef5PG1TXhs",
        "outputId": "2cf855c1-9dc8-46cf-c361-5ea54ff6340b"
      },
      "source": [
        "def my_function():\n",
        "    print(\"Hello, This is from my function!\")\n",
        "\n",
        "my_function()"
      ],
      "execution_count": null,
      "outputs": [
        {
          "output_type": "stream",
          "text": [
            "Hello, This is from my function!\n"
          ],
          "name": "stdout"
        }
      ]
    },
    {
      "cell_type": "markdown",
      "metadata": {
        "id": "1SCHqtTXVHMb"
      },
      "source": [
        "Using builtin functions"
      ]
    },
    {
      "cell_type": "code",
      "metadata": {
        "colab": {
          "base_uri": "https://localhost:8080/"
        },
        "id": "cmGshNF3TggR",
        "outputId": "ab074bde-9045-4a70-f084-df3e1a3ee484"
      },
      "source": [
        "# The max() function will return the item with the highest value as shown in the given arrays \n",
        "x = max([15, 20, 43, 33, 43])\n",
        "print(x)"
      ],
      "execution_count": null,
      "outputs": [
        {
          "output_type": "stream",
          "text": [
            "43\n"
          ],
          "name": "stdout"
        }
      ]
    },
    {
      "cell_type": "code",
      "metadata": {
        "id": "B0SpaGJEVvOv"
      },
      "source": [
        "#Another builtin function is type , that we used to check fordata types of variables."
      ],
      "execution_count": null,
      "outputs": []
    },
    {
      "cell_type": "markdown",
      "metadata": {
        "id": "WN63GZwWWGFz"
      },
      "source": [
        ""
      ]
    },
    {
      "cell_type": "code",
      "metadata": {
        "colab": {
          "base_uri": "https://localhost:8080/"
        },
        "id": "DT85cLsvWb69",
        "outputId": "2e688d0d-49ff-4831-8872-8099d3e1711b"
      },
      "source": [
        "# defining our function name\n",
        "def square_of_number():\n",
        "  \n",
        "  # assigning 6 to our variable nuber \n",
        "  number = 6\n",
        "  \n",
        "\n",
        "  square_square_of_number = number ** 2\n",
        "  \n",
        "  # the return keyword allows us to provide back the result/output of our function\n",
        "  return square_square_of_number\n",
        "\n",
        "# now calling our function\n",
        "square_of_number()"
      ],
      "execution_count": null,
      "outputs": [
        {
          "output_type": "execute_result",
          "data": {
            "text/plain": [
              "36"
            ]
          },
          "metadata": {
            "tags": []
          },
          "execution_count": 41
        }
      ]
    },
    {
      "cell_type": "code",
      "metadata": {
        "colab": {
          "base_uri": "https://localhost:8080/"
        },
        "id": "FEbgL5iqXI5D",
        "outputId": "3448b009-77ac-4ba6-c729-36a7570f6740"
      },
      "source": [
        "def sum():\n",
        "  a = [6, 5, 4, 3, 2, 1]\n",
        "  total = 0\n",
        "  \n",
        "    # performing our operation by using a for loop to iterate through our list\n",
        "  for x in a:\n",
        "    \n",
        "    # for each iteration we perform total = total + 1;  which can be simply be written as shown below\n",
        "    total += x\n",
        "    \n",
        "  # Then lastly return our output which is to print out the value of the total variable \n",
        "  return print(total)\n",
        "\n",
        "# Lastly we call the function in order to use it\n",
        "sum()"
      ],
      "execution_count": null,
      "outputs": [
        {
          "output_type": "stream",
          "text": [
            "21\n"
          ],
          "name": "stdout"
        }
      ]
    }
  ]
}